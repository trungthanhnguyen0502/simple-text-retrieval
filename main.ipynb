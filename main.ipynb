{
 "cells": [
  {
   "cell_type": "code",
   "execution_count": 6,
   "metadata": {
    "scrolled": true
   },
   "outputs": [
    {
     "name": "stderr",
     "output_type": "stream",
     "text": [
      "/Users/nguyenthanhtrung/opt/anaconda3/envs/recommend_env_2/lib/python3.6/site-packages/ipykernel_launcher.py:6: TqdmExperimentalWarning: Using `tqdm.autonotebook.tqdm` in notebook mode. Use `tqdm.tqdm` instead to force console mode (e.g. in jupyter console)\n",
      "  \n"
     ]
    }
   ],
   "source": [
    "import numpy as np\n",
    "import sklearn\n",
    "import underthesea\n",
    "import json\n",
    "import os\n",
    "from tqdm.autonotebook import tqdm\n",
    "from glob import glob\n",
    "from pprint import pprint\n",
    "import nltk\n",
    "from underthesea import word_tokenize\n",
    "from sklearn.decomposition import TruncatedSVD\n",
    "import math\n",
    "import sklearn\n"
   ]
  },
  {
   "cell_type": "markdown",
   "metadata": {},
   "source": [
    "## Load data in json file\n",
    "\n",
    "In dataset, item format is json with many fields and coresponding content "
   ]
  },
  {
   "cell_type": "code",
   "execution_count": 2,
   "metadata": {
    "scrolled": true
   },
   "outputs": [
    {
     "name": "stdout",
     "output_type": "stream",
     "text": [
      "3459\n",
      "{'Danh Mục': 'danh mục thời trang nữ phụ kiện may mặc',\n",
      " 'Gửi từ': 'gửi từ quận hai bà trưng hà nội',\n",
      " 'Kho hàng': 'kho hàng 33933',\n",
      " 'Thương hiệu': 'thương hiệu no brand',\n",
      " 'desc_2': 'vải voan lươi mêm loại 1 khổ vải rộng 17m chiều dài khách đặt số '\n",
      "           'lượng bao nhiêu cắt khổ vải dài bấy nhiêu ví dụ khách ấn màu đỏ '\n",
      "           'đặt mua số lượng 10 thì em sẽ cắt 1 tấm vái dài 10m rộng 17m  chất '\n",
      "           'liệu mềm mịn độ phồng cao có nhiều màu sắc phong phú cho khách lựa '\n",
      "           'chọn vì chỉ đăng được 20 lựa chọn màu khách muốn lấy màu nào không '\n",
      "           'có trong lựa chọn thì ib em nhé xanh ngọc có ngọc đậm và ngọc nhạt '\n",
      "           'xanh biển đậm xanh biển nhạt hồng phấn có đậm và nhạt vàng có vàng '\n",
      "           'đậm tức vàng cúc và vàng nhạt voan lưới thích hợp dùng làm váy '\n",
      "           'tutu cho trẻ em dùng may váy người lớn làm đồ handmade trang trí '\n",
      "           'tiệc sinh nhật tiệc cưới liên hê 0369 359 588 lưu ý tổng đơn hàng '\n",
      "           'ít nhất từ 2m trở lên shop mới cắt vải voanluoi vaivoan luoitutu '\n",
      "           'vaycongchua vảivoanlưới lướitutu giasi phukienmaymặc handmade '\n",
      "           'phôngnền',\n",
      " 'price': '15000',\n",
      " 'title': 'vải voan lưới mềm loại 1 15k 1m '}\n"
     ]
    }
   ],
   "source": [
    "json_fns = glob(\"./dataset/*.json\")\n",
    "items = []\n",
    "\n",
    "for fn in json_fns:\n",
    "    with open(fn, \"r\") as f:\n",
    "        items += json.load(f)\n",
    "print(len(items))\n",
    "test_item = items[0]\n",
    "pprint(test_item)"
   ]
  },
  {
   "cell_type": "markdown",
   "metadata": {},
   "source": [
    "### Tokenizer: word segmentation"
   ]
  },
  {
   "cell_type": "code",
   "execution_count": 3,
   "metadata": {},
   "outputs": [],
   "source": [
    "def word_tokenizer_item(item):\n",
    "    '''\n",
    "    Word tokenize for all field in a item\n",
    "    '''\n",
    "    for key in item.keys():\n",
    "        item[key] = word_tokenize(item[key], format='text')\n",
    "    return item"
   ]
  },
  {
   "cell_type": "code",
   "execution_count": 4,
   "metadata": {
    "scrolled": true
   },
   "outputs": [],
   "source": [
    "def count_unigram(text):\n",
    "    '''\n",
    "    Count appearance number for each vocabulary\n",
    "    '''\n",
    "    counter = {}\n",
    "    words = text.split()\n",
    "    vocabs = set(words)\n",
    "    for vocab in vocabs:\n",
    "        if not vocab.isdigit():\n",
    "            counter[vocab] = words.count(vocab)\n",
    "    return counter\n",
    "\n",
    "def combine_metadata(item):\n",
    "    '''\n",
    "    Combine all data field of item to 2 main field: product name and product description\n",
    "    Output format: item = {\n",
    "        name: 'product name',\n",
    "        desc: 'product description'\n",
    "    }\n",
    "    '''\n",
    "    newItem = {}\n",
    "    newItem['name'] = item['title']\n",
    "    newItem['desc'] = \"\"\n",
    "    if 'Thương hiệu' in item.keys():\n",
    "        if \"no brand\" not in item['Thương hiệu']:\n",
    "            newItem['name'] += f\" . {item['Thương hiệu']}\"\n",
    "    for key in item.keys():\n",
    "        newItem[\"desc\"] += f\" . {item[key]}\"\n",
    "    return newItem\n",
    "    \n",
    "def count_word_in_dataset(items):\n",
    "    '''\n",
    "    count number of word in dataset\n",
    "    '''\n",
    "    nameCounter = {}\n",
    "    descCounter = {}\n",
    "    for item in items:\n",
    "        for word in item['unigram_name'].keys():\n",
    "            if word in nameCounter.keys():\n",
    "                nameCounter[word] += 1\n",
    "            else:\n",
    "                nameCounter[word] = 1\n",
    "        for word in item['unigram_desc'].keys():\n",
    "            if word in descCounter.keys():\n",
    "                descCounter[word] += 1\n",
    "            else:\n",
    "                descCounter[word] = 1\n",
    "    return nameCounter, descCounter"
   ]
  },
  {
   "cell_type": "code",
   "execution_count": 7,
   "metadata": {
    "scrolled": true
   },
   "outputs": [
    {
     "data": {
      "application/vnd.jupyter.widget-view+json": {
       "model_id": "6f0ab82c844c4f80b246f80d3d7b1cfd",
       "version_major": 2,
       "version_minor": 0
      },
      "text/plain": [
       "HBox(children=(FloatProgress(value=0.0, max=3459.0), HTML(value='')))"
      ]
     },
     "metadata": {},
     "output_type": "display_data"
    },
    {
     "name": "stdout",
     "output_type": "stream",
     "text": [
      "\n"
     ]
    }
   ],
   "source": [
    "newItems = []\n",
    "for item in tqdm(items):\n",
    "    newItem = word_tokenizer_item(item)\n",
    "    newItem = combine_metadata(newItem)\n",
    "    newItem['unigram_name'] = count_unigram(newItem['name'])\n",
    "    newItem['unigram_desc'] = count_unigram(newItem['desc'])\n",
    "    newItems.append(newItem)"
   ]
  },
  {
   "cell_type": "code",
   "execution_count": 8,
   "metadata": {},
   "outputs": [],
   "source": [
    "def tfidf(doc_len, corpus_len, doc_counter, corpus_counter, k=2):\n",
    "    vector_len = len(corpus_counter)\n",
    "    tfidf_vector = np.zeros((vector_len,))\n",
    "    for i, key in enumerate(corpus_counter.keys()):\n",
    "        if key in doc_counter.keys():\n",
    "            tf = (k+1)*doc_counter[key]/(k+doc_counter[key])\n",
    "            idf = math.log((corpus_len+1)/(corpus_counter[key]))\n",
    "            tfidf_vector[i] = tf*idf\n",
    "    return tfidf_vector"
   ]
  },
  {
   "cell_type": "markdown",
   "metadata": {},
   "source": [
    "### Word_counter in all corpus"
   ]
  },
  {
   "cell_type": "code",
   "execution_count": 9,
   "metadata": {
    "scrolled": true
   },
   "outputs": [],
   "source": [
    "nameCounter, descCounter = count_word_in_dataset(newItems)\n",
    "with open(\"name_counter.json\", \"w+\", encoding='utf8') as f:\n",
    "    json.dump(nameCounter, f, sort_keys=True, indent=2, ensure_ascii=False)\n",
    "    \n",
    "with open(\"desc_counter.json\", \"w+\", encoding='utf8') as f:\n",
    "    json.dump(descCounter, f, sort_keys=True, indent=2, ensure_ascii=False)"
   ]
  },
  {
   "cell_type": "markdown",
   "metadata": {},
   "source": [
    "### Tf-idf "
   ]
  },
  {
   "cell_type": "code",
   "execution_count": 10,
   "metadata": {
    "scrolled": true
   },
   "outputs": [
    {
     "data": {
      "application/vnd.jupyter.widget-view+json": {
       "model_id": "b412d3985f734aeb8c9f85c2a590f093",
       "version_major": 2,
       "version_minor": 0
      },
      "text/plain": [
       "HBox(children=(FloatProgress(value=0.0, max=3459.0), HTML(value='')))"
      ]
     },
     "metadata": {},
     "output_type": "display_data"
    },
    {
     "name": "stdout",
     "output_type": "stream",
     "text": [
      "\n",
      "3459\n"
     ]
    }
   ],
   "source": [
    "tfidf_vectors = []\n",
    "corpus_len = len(newItems)\n",
    "for item in tqdm(newItems):\n",
    "    doc_len = len(item['desc'])\n",
    "    tfidf_vectors.append(\n",
    "        tfidf(doc_len, corpus_len, item['unigram_desc'], descCounter)\n",
    "    )\n",
    "print(len(tfidf_vectors))"
   ]
  },
  {
   "cell_type": "markdown",
   "metadata": {},
   "source": [
    "## SVD"
   ]
  },
  {
   "cell_type": "code",
   "execution_count": 13,
   "metadata": {
    "scrolled": true
   },
   "outputs": [],
   "source": [
    "svd = TruncatedSVD(n_components=256)\n",
    "svd.fit(tfidf_vectors)\n",
    "svd_tfidf_vector = svd.transform(tfidf_vectors)"
   ]
  },
  {
   "cell_type": "code",
   "execution_count": 14,
   "metadata": {
    "scrolled": true
   },
   "outputs": [],
   "source": [
    "query_vector = tfidf_vectors[0]\n",
    "query_vector = np.reshape(query_vector, (1,-1))\n",
    "# search\n",
    "sim_maxtrix = sklearn.metrics.pairwise.cosine_similarity(query_vector, tfidf_vectors)\n",
    "sim_maxtrix = np.reshape(sim_maxtrix, (-1,))"
   ]
  },
  {
   "cell_type": "code",
   "execution_count": 16,
   "metadata": {
    "scrolled": false
   },
   "outputs": [
    {
     "name": "stdout",
     "output_type": "stream",
     "text": [
      "0 0.9999999999999998\n",
      "VẢI VOAN LƯỚI MỀM LOẠI 1 15K 1M\n",
      " . danh_mục thời_trang nữ phụ_kiện may_mặc . gửi từ quận_hai bà trưng hà nội . kho hàng 33933 . thương_hiệu no brand . vải voan lươi mêm loại 1 khổ vải rộng 17m chiều dài khách đặt số_lượng bao_nhiêu cắt khổ vải dài bấy_nhiêu ví_dụ khách ấn màu đỏ đặt mua số_lượng 10 thì em sẽ cắt 1 tấm vái_dài 10m rộng 17m chất_liệu mềm mịn độ phồng cao có nhiều màu_sắc phong_phú cho khách lựa_chọn vì chỉ đăng được 20 lựa_chọn màu khách muốn lấy màu nào không có trong lựa_chọn thì ib em nhé xanh ngọc có ngọc đậm và ngọc nhạt xanh biển đậm xanh biển nhạt hồng phấn có đậm và nhạt vàng có vàng đậm tức vàng cúc và vàng nhạt voan lưới thích_hợp dùng làm váy tutu cho trẻ_em dùng may váy người_lớn làm đồ handmade trang_trí tiệc sinh_nhật tiệc cưới liên hê 0369 359 588 lưu_ý tổng đơn hàng ít_nhất từ 2m trở lên shop mới cắt vải voanluoi vaivoan luoitutu vaycongchua vảivoanlưới lướitutu giasi phukienmaymặc handmade phôngnền . 15000 . vải voan lưới mềm loại 1 15k 1m \n",
      "\n",
      "\n",
      "2060 0.13226642639919048\n",
      "KATE SỢI HỒNG PHẤN NHẠT\n",
      " . danh_mục thời_trang nữ phụ_kiện may_mặc . gửi từ quận 7 tp hồ chí_minh . kho hàng 8 . thương_hiệu no brand . kate sợi hồng phấn nhạt khổ 1m5 35k m chất vải dệt sợi mềm mượt mát_tay ko co_giãn rũ nhẹ vừa mình ko quá mỏng may áo somi đầm váy suông xòe nhẹ . 35000 . kate sợi hồng phấn nhạt \n",
      "\n",
      "\n",
      "30 0.12970371893691332\n",
      "LƯỚI MỊN MẮT NHỎ ĐÀI LOAN MAY VÁY CƯỚI VÁY THỜI_TRANG\n",
      " . danh_mục thời_trang nữ phụ_kiện may_mặc . gửi từ quận đống đa hà nội . kho hàng 2100 . thương_hiệu no brand . xuất_xứ taiwan . lưới mịn mắt nhỏ chất_liệu cao_cấp nhập_khẩu từ đài loan vải lưới may váy cưới váy thời_trang cao_cấp áo_dài 2 lớp váy cong chúa váy tutu cho bé khổ vải 16m giá cực ưu_đãi khi mua cả cây 80m còn 18k m_shop vải nhập_ngoại hà nội đc tầng 4 số 144 thái_hà đống đa hà nội đt 0934281800 ren luoi vaimayvaycuoi vaimaydam vaycongchua vaytutu . 25000 . lưới mịn mắt nhỏ đài loan may váy cưới váy thời_trang \n",
      "\n",
      "\n",
      "2106 0.12872466981227126\n",
      "VẢI ÁO_DÀI HOA ĐỀU NỀN XANH HOA VÀNG\n",
      " . chất_liệu lụa . danh_mục thời_trang nữ phụ_kiện may_mặc . gửi từ huyện tam_bình vĩnh_long . kho hàng 1 . thương_hiệu no brand . xuất_xứ việt nam . chất vải lụa nhật xịn co_giãn 4 chiều vải nhẹ mềm mịn rũ ít may ko cần lót khổ 1m5 dài 2m thích_hợp may áo_dài áo kiểu đầm váy jum vải lụa nhật may áo_dài hoa đều . 85000 . vải áo_dài hoa đều nền xanh hoa vàng \n",
      "\n",
      "\n",
      "2054 0.11131882450160888\n",
      "VOAN LỤA ĐEN DẬP NHÚN\n",
      " . danh_mục thời_trang nữ phụ_kiện may_mặc . gửi từ quận 7 tp hồ chí_minh . kho hàng 30 . thương_hiệu no brand . voan dập đen khổ 1m5 15k m chất voan mềm mịn rũ mượt mát_tay ko co_giãn đen tuyền may áo somi áo_dài đầm váy suông xòe nhẹ vai vaigiasi fabric vaigiare vaivoan vaivoantron vaivoanlua vaimaydam vaimayvay vaimayjum vailot vaimaydammaxi vaimemmat vaimuot vairu vaitrang vaimayao vaivoanden . 15000 . voan lụa đen dập nhún \n",
      "\n",
      "\n",
      "2946 0.10682629063148708\n",
      "YÊU THÍCH RUY BĂNG VOAN LƯỚI HOA VIỀN CHỈ LOẠI 25MM VÀ 38MM GIÁ 20K CUỘN 4 5M\n",
      " . chất_liệu polyester . danh_mục thời_trang nữ phụ_kiện may_mặc . kho hàng 147 . thương_hiệu no brand . tên ruy băng voan lưới hoa viền chỉ đơn_giá loại 25mm 20k 5m loại 38mm 20k 4m chất_liệu nylon kích_thước tùy chọn màu nhiều màu tính_năng độ bền giặt cao màu sáng màu không bị phai và sờ có cảm_giác mềm_mại sử_dụng trang_trí đám_cưới cửa_hàng hoa phụ_kiện tóc bao_bì hộp quà tặng quần_áo túi_xách giày và mũ dệt_may nhà trang_trí khách_sạn trang_trí vv lưu_ý màu_sắc hoa thực_tế có_thể đậm hoặc nhạt hơn màu thực_tế do chế_độ hiển_thị trên mỗi thiết_bị khác nhau phụ_kiện nk chuyên cung_cấp sỉ lẻ các loại phụ_kiện handmade như ruy băng các loại hạt_trai hạt bẹt hạt nhựa cánh hoa làm handmade các loại chun buộc tóc dây da_lộn dây cói dây tim dây sáp bóng các loại dây_xích các loại mặt_xi bạc giả cổ các loại kẹp khoen nối càng cua khách cần mua số_lượng lớn thì nhắn_shop làm combo cho khách nhé inbox cho shop để được tư_vấn thêm nhé khách mình kích_hoạt tất_cả các đơn_vị vận_chuyển khách nhớ chọn đơn_vị vận_chuyển thích_hợp nhất nhé phụkiennk ruybang ruybăng ruybangvoan ruybanghandmade handmad . 20000 . yêu thích ruy băng voan lưới hoa viền chỉ loại 25mm và 38mm giá 20k cuộn 4 5m \n",
      "\n",
      "\n",
      "310 0.10459462778759133\n",
      "ÁO THUN NỮ IN HÌNH BIỂN CẢNH_BÁO\n",
      " . chất_liệu cotton . danh_mục thời_trang nữ áo áo_thun . gửi từ quận tân_bình tp hồ chí_minh . kho hàng 24000 . kiểu tay ngắn tay . thương_hiệu no brand . gồm 4 phiên_bản màu trẻ_trung tươi sáng hồng phấn trắng vàng cúc xanh ngọc có 7 sizes cho người_lớn xs s m l xl 2xl 3xl và 6 size cho trẻ_em 1 2 3 4 5 6 chi_tiết tham_khảo bảng kích_cỡ form freesize thoải_mái năng_động chất_liệu cotton mềm mịn thoáng mát hình in rõ nét mẫu_mã đa_dạng không phai_màu đối_tượng vì cung_cấp đầy_đủ các size cho hầu_hết các lứa tuổi cho_nên mọi người đều có_thể sử_dụng được cụ_thể gia_đình phù_hợp cho các gia_đình đi tham_quan du_lịch tham_gia các hoạt_động thể_chất hoặc chụp ảnh gia_đình nam_nữ thanh_thiếu_niên dành cho các bạn có phong_cách năng_động trẻ_trung hay hoạt_động thể_chất hoặc đơn_giản là mặc ở nhà_trẻ_em có những hình in dễ_thương dành cho các bé cả trả lẫn gái ba_mẹ thoải_mái lựa_chọn cho các bé nhà mình các cặp_đôi cho các đôi bạn muốn thể_hiện tình_cảm qua trang_phục cho các buổi hẹn_hò đi ăn_uống du_lịch cùng nhau . 49000 69000 . áo thun nữ in hình biển cảnh_báo \n",
      "\n",
      "\n",
      "2961 0.10129896257867195\n",
      "YÊU THÍCH RUY BĂNG VOAN VIỀN SÓNG BIÊN\n",
      " . chất_liệu polyester . danh_mục thời_trang nữ phụ_kiện may_mặc . gửi từ quận thủ_đức tp hồ chí_minh . kho hàng 402 . thương_hiệu no brand . tên ruy băng voan viền sóng biên kích_thước 55mm đơn_giá 7000 mét màu_sắc đen xanh navy xám đậm xám nhạt đỏ rượu_vang xanh ngọc hồng xanh lá nguyên_liệu organza phạm_vi sử_dụng công_nghiệp quần_áo may_mặc dệt_may gia_đình phụ_kiện tóc thủ_công nơ tự làm phụ_kiện tóc cho người_lớn hộp quà tặng_vật_liệu đóng_gói bó hoa dây_chuyền cổ áo dây_buộc tóc băng đô mũ rơm dây giày lưu_ý màu_sắc hình_ảnh có_thể đậm hoặc nhạt hơn màu thực_tế do chế_độ hiển_thị trên mỗi thiết_bị khác nhau phụ_kiện nk chuyên cung_cấp sỉ lẻ các loại phụ_kiện handmade như ruy băng các loại hạt_trai hạt bẹt hạt nhựa cánh hoa làm handmade các loại chun buộc tóc dây da dây_xích các loại mặt_xi bạc giả cổ các loại kẹp khoen nối càng cua khách cần mua số_lượng lớn thì nhắn_shop làm combo cho khách nhé inbox cho shop để được tư_vấn thêm nhé khách phukiennk ruybang ruybăng ruy bang ruy băng ruybangsoc ruy băng sọc ruy bang soc ruybăngsọc ruybangthucong ruybăngthủcông ruybangnon ruybăngnón ruybanglamno ruybănglàmnơ ribbon organza . 7000 . yêu thích ruy băng voan viền sóng biên \n",
      "\n",
      "\n",
      "2057 0.09919028697863418\n",
      "LỤA CÁT HỒNG NHẠT MẢNH 1M1 35K\n",
      " . danh_mục thời_trang nữ phụ_kiện may_mặc . gửi từ quận 7 tp hồ chí_minh . kho hàng 1 . thương_hiệu no brand . lụa cát hồng nhạt khổ 1m5 35k m chất vải mềm rũ nhiều ko co_giãn ko quá dày may áo somi đầm váy suông xòe nhẹ . 35000 . lụa cát hồng nhạt mảnh 1m1 35k \n",
      "\n",
      "\n",
      "816 0.09815153617579128\n",
      "ÁO THUN NỮ IN SỐ 1080\n",
      " . chất_liệu cotton . danh_mục thời_trang nữ áo áo_thun . gửi từ quận tân_bình tp hồ chí_minh . kho hàng 24000 . kiểu tay ngắn tay . thương_hiệu no brand . gồm 4 phiên_bản màu trẻ_trung tươi sáng hồng phấn trắng vàng cúc xanh ngọc có 7 sizes cho người_lớn xs s m l xl 2xl 3xl và 6 size cho trẻ_em 1 2 3 4 5 6 chi_tiết tham_khảo bảng kích_cỡ form freesize thoải_mái năng_động chất_liệu cotton mềm mịn thoáng mát hình in rõ nét mẫu_mã đa_dạng không phai_màu đối_tượng vì cung_cấp đầy_đủ các size cho hầu_hết các lứa tuổi cho_nên mọi người đều có_thể sử_dụng được cụ_thể gia_đình phù_hợp cho các gia_đình đi tham_quan du_lịch tham_gia các hoạt_động thể_chất hoặc chụp ảnh gia_đình nam_nữ thanh_thiếu_niên dành cho các bạn có phong_cách năng_động trẻ_trung hay hoạt_động thể_chất hoặc đơn_giản là mặc ở nhà_trẻ_em có những hình in dễ_thương dành cho các bé cả trả lẫn gái ba_mẹ thoải_mái lựa_chọn cho các bé nhà mình các cặp_đôi cho các đôi bạn muốn thể_hiện tình_cảm qua trang_phục cho các buổi hẹn_hò đi ăn_uống du_lịch cùng nhau . 49000 69000 . áo thun nữ in số 1080 \n",
      "\n",
      "\n",
      "541 0.09815153617579128\n",
      "ÁO THUN NỮ IN SỐ 1080\n",
      " . chất_liệu cotton . danh_mục thời_trang nữ áo áo_thun . gửi từ quận tân_bình tp hồ chí_minh . kho hàng 24000 . kiểu tay ngắn tay . thương_hiệu no brand . gồm 4 phiên_bản màu trẻ_trung tươi sáng hồng phấn trắng vàng cúc xanh ngọc có 7 sizes cho người_lớn xs s m l xl 2xl 3xl và 6 size cho trẻ_em 1 2 3 4 5 6 chi_tiết tham_khảo bảng kích_cỡ form freesize thoải_mái năng_động chất_liệu cotton mềm mịn thoáng mát hình in rõ nét mẫu_mã đa_dạng không phai_màu đối_tượng vì cung_cấp đầy_đủ các size cho hầu_hết các lứa tuổi cho_nên mọi người đều có_thể sử_dụng được cụ_thể gia_đình phù_hợp cho các gia_đình đi tham_quan du_lịch tham_gia các hoạt_động thể_chất hoặc chụp ảnh gia_đình nam_nữ thanh_thiếu_niên dành cho các bạn có phong_cách năng_động trẻ_trung hay hoạt_động thể_chất hoặc đơn_giản là mặc ở nhà_trẻ_em có những hình in dễ_thương dành cho các bé cả trả lẫn gái ba_mẹ thoải_mái lựa_chọn cho các bé nhà mình các cặp_đôi cho các đôi bạn muốn thể_hiện tình_cảm qua trang_phục cho các buổi hẹn_hò đi ăn_uống du_lịch cùng nhau . 49000 69000 . áo thun nữ in số 1080 \n",
      "\n",
      "\n",
      "2079 0.09714936230990992\n",
      "KATE SỢI XANH COBAN ĐẬM\n",
      " . danh_mục thời_trang nữ phụ_kiện may_mặc . gửi từ quận 7 tp hồ chí_minh . kho hàng 30 . thương_hiệu no brand . kate sợi xanh coban đậm khổ 1m5 35k m chất vải dệt sợi mịn mềm mát mượt tay rũ nhiều đứng form nhẹ ko co_giãn vừa mình may áo somi đầm váy suông xòe nhẹ áo_dài . 35000 . kate sợi xanh coban đậm \n",
      "\n",
      "\n",
      "2416 0.0959041922598936\n",
      "ÁO THUN NỮ IN_HÌNH LOGO DIOR\n",
      " . chất_liệu cotton . danh_mục thời_trang nữ áo áo_thun . gửi từ quận tân_bình tp hồ chí_minh . kho hàng 23999 . kiểu tay ngắn tay . thương_hiệu no brand . gồm 4 phiên_bản màu trẻ_trung tươi sáng hồng phấn trắng vàng cúc xanh ngọc có 7 sizes cho người_lớn xs s m l xl 2xl 3xl và 6 size cho trẻ_em 1 2 3 4 5 6 chi_tiết tham_khảo bảng kích_cỡ form freesize thoải_mái năng_động chất_liệu cotton mềm mịn thoáng mát hình in rõ nét mẫu_mã đa_dạng không phai_màu đối_tượng vì cung_cấp đầy_đủ các size cho hầu_hết các lứa tuổi cho_nên mọi người đều có_thể sử_dụng được cụ_thể gia_đình phù_hợp cho các gia_đình đi tham_quan du_lịch tham_gia các hoạt_động thể_chất hoặc chụp ảnh gia_đình nam_nữ thanh_thiếu_niên dành cho các bạn có phong_cách năng_động trẻ_trung hay hoạt_động thể_chất hoặc đơn_giản là mặc ở nhà_trẻ_em có những hình in dễ_thương dành cho các bé cả trả lẫn gái ba_mẹ thoải_mái lựa_chọn cho các bé nhà mình các cặp_đôi cho các đôi bạn muốn thể_hiện tình_cảm qua trang_phục cho các buổi hẹn_hò đi ăn_uống du_lịch cùng nhau . 49000 69000 . áo thun nữ in_hình logo dior \n",
      "\n",
      "\n",
      "2407 0.09556066622748748\n",
      "ÁO THUN NỮ IN_HÌNH LÔ GÔ\n",
      " . chất_liệu cotton . danh_mục thời_trang nữ áo áo_thun . gửi từ quận tân_bình tp hồ chí_minh . kho hàng 24000 . kiểu tay ngắn tay . thương_hiệu no brand . gồm 4 phiên_bản màu trẻ_trung tươi sáng hồng phấn trắng vàng cúc xanh ngọc có 7 sizes cho người_lớn xs s m l xl 2xl 3xl và 6 size cho trẻ_em 1 2 3 4 5 6 chi_tiết tham_khảo bảng kích_cỡ form freesize thoải_mái năng_động chất_liệu cotton mềm mịn thoáng mát hình in rõ nét mẫu_mã đa_dạng không phai_màu đối_tượng vì cung_cấp đầy_đủ các size cho hầu_hết các lứa tuổi cho_nên mọi người đều có_thể sử_dụng được cụ_thể gia_đình phù_hợp cho các gia_đình đi tham_quan du_lịch tham_gia các hoạt_động thể_chất hoặc chụp ảnh gia_đình nam_nữ thanh_thiếu_niên dành cho các bạn có phong_cách năng_động trẻ_trung hay hoạt_động thể_chất hoặc đơn_giản là mặc ở nhà_trẻ_em có những hình in dễ_thương dành cho các bé cả trả lẫn gái ba_mẹ thoải_mái lựa_chọn cho các bé nhà mình các cặp_đôi cho các đôi bạn muốn thể_hiện tình_cảm qua trang_phục cho các buổi hẹn_hò đi ăn_uống du_lịch cùng nhau . 49000 69000 . áo thun nữ in_hình lô gô \n",
      "\n",
      "\n",
      "1758 0.09510071449029481\n",
      "ÁO THUN NỮ IN_HÌNH DẤU TÍT\n",
      " . chất_liệu cotton . danh_mục thời_trang nữ áo áo_thun . gửi từ quận tân_bình tp hồ chí_minh . kho hàng 24000 . kiểu tay ngắn tay . thương_hiệu no brand . gồm 4 phiên_bản màu trẻ_trung tươi sáng hồng phấn trắng vàng cúc xanh ngọc có 7 sizes cho người_lớn xs s m l xl 2xl 3xl và 6 size cho trẻ_em 1 2 3 4 5 6 chi_tiết tham_khảo bảng kích_cỡ form freesize thoải_mái năng_động chất_liệu cotton mềm mịn thoáng mát hình in rõ nét mẫu_mã đa_dạng không phai_màu đối_tượng vì cung_cấp đầy_đủ các size cho hầu_hết các lứa tuổi cho_nên mọi người đều có_thể sử_dụng được cụ_thể gia_đình phù_hợp cho các gia_đình đi tham_quan du_lịch tham_gia các hoạt_động thể_chất hoặc chụp ảnh gia_đình nam_nữ thanh_thiếu_niên dành cho các bạn có phong_cách năng_động trẻ_trung hay hoạt_động thể_chất hoặc đơn_giản là mặc ở nhà_trẻ_em có những hình in dễ_thương dành cho các bé cả trả lẫn gái ba_mẹ thoải_mái lựa_chọn cho các bé nhà mình các cặp_đôi cho các đôi bạn muốn thể_hiện tình_cảm qua trang_phục cho các buổi hẹn_hò đi ăn_uống du_lịch cùng nhau . 49000 69000 . áo thun nữ in_hình dấu tít \n",
      "\n",
      "\n",
      "1603 0.09510071449029481\n",
      "ÁO THUN NỮ IN_HÌNH DẤU TÍT\n",
      " . chất_liệu cotton . danh_mục thời_trang nữ áo áo_thun . gửi từ quận tân_bình tp hồ chí_minh . kho hàng 24000 . kiểu tay ngắn tay . thương_hiệu no brand . gồm 4 phiên_bản màu trẻ_trung tươi sáng hồng phấn trắng vàng cúc xanh ngọc có 7 sizes cho người_lớn xs s m l xl 2xl 3xl và 6 size cho trẻ_em 1 2 3 4 5 6 chi_tiết tham_khảo bảng kích_cỡ form freesize thoải_mái năng_động chất_liệu cotton mềm mịn thoáng mát hình in rõ nét mẫu_mã đa_dạng không phai_màu đối_tượng vì cung_cấp đầy_đủ các size cho hầu_hết các lứa tuổi cho_nên mọi người đều có_thể sử_dụng được cụ_thể gia_đình phù_hợp cho các gia_đình đi tham_quan du_lịch tham_gia các hoạt_động thể_chất hoặc chụp ảnh gia_đình nam_nữ thanh_thiếu_niên dành cho các bạn có phong_cách năng_động trẻ_trung hay hoạt_động thể_chất hoặc đơn_giản là mặc ở nhà_trẻ_em có những hình in dễ_thương dành cho các bé cả trả lẫn gái ba_mẹ thoải_mái lựa_chọn cho các bé nhà mình các cặp_đôi cho các đôi bạn muốn thể_hiện tình_cảm qua trang_phục cho các buổi hẹn_hò đi ăn_uống du_lịch cùng nhau . 49000 69000 . áo thun nữ in_hình dấu tít \n",
      "\n",
      "\n",
      "3037 0.093731947605249\n",
      "YÊU THÍCH BÁN_SỈ ÁO_LEN GÂN CÚC CỔ V\n",
      " . chất_liệu len . danh_mục thời_trang nữ trang_phục đông đồ len . gửi từ quận thanh_xuân hà nội . kho hàng 98 . thương_hiệu no brand . xuất_xứ việt nam . nhập ib sẵn ạ về 9 màu đen vàng be nhạt đỏ xanh chuối_xanh da_trời hồng be đậm trắng về sll áo_len gân_cổ tim ôm đc lô giá sốc mà chất_lượng cho c m đây ạ áo_len gân rất nhiều màu cho ce lựa_chọn ai cũng thủ 23 em í ạ len cực style đanh co_dãn tốt mix vs sooc chân_váy cực xinh mặc trong áo vest áo_khoác thì chuẩn k cần chỉnh len mềm nên k nóng tí nào nhé k bí e bảo_đảm luôn lên form om body thoải_mái mặc dễ_chịu lắm ce dáng cổ tim cực dễ mix đồ mặc đơn cũng đẹp năng_động trẻ_trung che đc mọi khuyết_điểm ạ dấu người cực_kì nhé lẻ ib . 145000 . yêu thích bán_sỉ áo_len gân cúc cổ v \n",
      "\n",
      "\n",
      "2059 0.09272944038302448\n",
      "KAKI LỤA HỒNG CAM NHẠT\n",
      " . danh_mục thời_trang nữ phụ_kiện may_mặc . gửi từ quận 7 tp hồ chí_minh . kho hàng 23 . thương_hiệu no brand . kaki lụa hồng cam nhạt khổ 1m5 35k m chất vải dệt sợi ko quá dày_dày hơn kate xíu đứng form nhẹ vừa mình ko co_giãn may đầm váy suông xòe nhẹ quần tây . 35000 . kaki lụa hồng cam nhạt \n",
      "\n",
      "\n",
      "2098 0.09224427473152097\n",
      "VẢI ÁO_DÀI HOA NHÍ IN 3D\n",
      " . chất_liệu tằm . danh_mục thời_trang nữ phụ_kiện may_mặc . gửi từ huyện tam_bình vĩnh_long . kho hàng 1 . thương_hiệu no brand . xuất_xứ việt nam . chất vải tằm giãn nhẹ mềm mịn rũ mát ko nhăn ko lót họa tiết như hình chụp thật khổ 1m5 dài 2m may áo_dài đầm váy jum bộ vv . 250000 . vải áo_dài hoa nhí in 3d \n",
      "\n",
      "\n",
      "2959 0.09179604001826829\n",
      "YÊU THÍCH DÂY_DÙ 2MM ĐAN VÒNG TAY CUỘN 55 MÉT\n",
      " . danh_mục thời_trang nữ phụ_kiện may_mặc . kho hàng 1229 . thương_hiệu no brand . dây dù 2mm cuộn 55 mét dây có đường_kính 2mm chiều dài 55m công_dụng chủ yêu dùng đan vòng tay đan các đồ_dùng handmade các bạn có_thể chọn màu hợp với mệnh của mình để lấy may_mắn có_thể lên google tìm_hiểu mệnh của mình bằng năm sinh nhé mệnh kim hợp màu nâu đất vàng 2 màu tương_sinh không hợp đỏ hồng mệnh mộc hợp màu xanh_dương xanh_dương nhạt xanh lá đen và xám mệnh thủy_hợp màu đen và xanh_dương xanh_dương nhạt mệnh_hỏa_hợp màu đỏ cam tím xanh_lá cây và xanh bộ_đội xanh_lá cây và xanh bộ_đội là hợp_nhất nhé mệnh thổ hợp màu vàng nhạt và vàng đậm đỏ cam tím hồng liên_hệ shop để shop tư_vấn về mệnh của các bạn lấy màu cho chuẩn với mệnh sẽ gặp nhiều may_mắn trong cuộc_sống hơn ad mệnh_hỏa và đang đeo màu xanh_lá cây nhé d đeo hơn 2 năm và thấy rất may_mắn ạ lưu_ý khi đan vòng tay may_mắn không nên phụ_thuộc vào màu đỏ và đen quá nhiều chú_ý tới mệnh của mình sẽ chọn được các màu_sắc thích_hợp hơn shop cam_kết giá thấp nhất việt nam . 20000 . yêu thích dây_dù 2mm đan vòng tay cuộn 55 mét \n",
      "\n",
      "\n"
     ]
    }
   ],
   "source": [
    "\n",
    "idx = (-sim_maxtrix).argsort()[:20]\n",
    "for _id in idx:\n",
    "    print(_id, sim_maxtrix[_id])\n",
    "    print(newItems[_id]['name'].upper())\n",
    "    print(newItems[_id]['desc'], \"\\n\\n\")\n"
   ]
  }
 ],
 "metadata": {
  "kernelspec": {
   "display_name": "recommend_env_2",
   "language": "python",
   "name": "recommend_env_2"
  },
  "language_info": {
   "codemirror_mode": {
    "name": "ipython",
    "version": 3
   },
   "file_extension": ".py",
   "mimetype": "text/x-python",
   "name": "python",
   "nbconvert_exporter": "python",
   "pygments_lexer": "ipython3",
   "version": "3.6.8"
  }
 },
 "nbformat": 4,
 "nbformat_minor": 2
}
