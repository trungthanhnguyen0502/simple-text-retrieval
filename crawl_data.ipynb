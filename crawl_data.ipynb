{
 "cells": [
  {
   "cell_type": "code",
   "execution_count": 491,
   "metadata": {},
   "outputs": [],
   "source": [
    "from selenium.webdriver import Chrome\n",
    "from selenium.webdriver.chrome.options import Options\n",
    "from webdriver_manager.chrome import ChromeDriverManager\n",
    "import os\n",
    "from random import shuffle\n",
    "import numpy as np\n",
    "\n",
    "from selenium import webdriver\n",
    "from selenium.webdriver.common.by import By\n",
    "from selenium.webdriver.support.ui import WebDriverWait\n",
    "from selenium.webdriver.support import expected_conditions as EC\n",
    "from pprint import pprint\n",
    "from selenium.webdriver.common.keys import Keys\n",
    "import time\n",
    "import re\n",
    "from underthesea import sent_tokenize\n",
    "import string\n",
    "from tqdm import tqdm\n",
    "import json"
   ]
  },
  {
   "cell_type": "code",
   "execution_count": 492,
   "metadata": {},
   "outputs": [],
   "source": [
    "opts = Options()\n",
    "opts.headless = True\n",
    "opts.add_argument(\"--disable-extensions\")\n",
    "opts.add_argument(\"--disable-infobars\")\n",
    "opts.add_argument(\"start-maximized\")\n",
    "opts.add_argument(\"--disable-notifications\")"
   ]
  },
  {
   "cell_type": "code",
   "execution_count": 493,
   "metadata": {},
   "outputs": [],
   "source": [
    "\n",
    "exclude = list(string.punctuation) + [\"“\", \"”\", \"–\", \"‘\", \"’\", \"shopee\", \"\\n\", \"\\s\", \"\\'\", \"<br>\"]\n",
    "exclude.remove(\".\")\n",
    "exclude.remove(\",\")\n",
    "\n",
    "accented_chars_vietnamese = [\n",
    "    'á', 'à', 'ả', 'ã', 'ạ', 'â', 'ấ', 'ầ', 'ẩ', 'ẫ', 'ậ', 'ă', 'ắ', 'ằ', 'ẳ', 'ẵ', 'ặ',\n",
    "    'ó', 'ò', 'ỏ', 'õ', 'ọ', 'ô', 'ố', 'ồ', 'ổ', 'ỗ', 'ộ', 'ơ', 'ớ', 'ờ', 'ở', 'ỡ', 'ợ',\n",
    "    'é', 'è', 'ẻ', 'ẽ', 'ẹ', 'ê', 'ế', 'ề', 'ể', 'ễ', 'ệ',\n",
    "    'ú', 'ù', 'ủ', 'ũ', 'ụ', 'ư', 'ứ', 'ừ', 'ử', 'ữ', 'ự',\n",
    "    'í', 'ì', 'ỉ', 'ĩ', 'ị',\n",
    "    'ý', 'ỳ', 'ỷ', 'ỹ', 'ỵ','đ',\n",
    "]\n",
    "accented_chars_vietnamese = \"\".join(accented_chars_vietnamese)\n",
    "\n",
    "\n",
    "\n",
    "\n",
    "def preprocess_text(text):\n",
    "    text = text.lower().strip()\n",
    "    stop_words = []\n",
    "    for stop_word in exclude:\n",
    "        text = text.replace(stop_word, \" \")\n",
    "    text = re.sub(\"\\s+\", \" \", text)\n",
    "    pattern = f\"[^A-Za-z0-9 {accented_chars_vietnamese}]+\"\n",
    "    text = re.sub(pattern, '', text)\n",
    "    return text\n",
    "\n",
    "# def search(query, browser):\n",
    "#     product_lists = []\n",
    "#     input_button = browser.find_element_by_class_name(\"shopee-searchbar-input__input\")\n",
    "#     input_button.clear()\n",
    "#     input_button.send_keys(query)\n",
    "#     input_button.send_keys(Keys.ENTER)\n",
    "#     items = browser.find_elements_by_class_name(\"shopee-search-item-result__item\")    \n",
    "\n",
    "#     for i in range(min(20, len(items))):\n",
    "#         product = {}\n",
    "#         browser.implicitly_wait(2)\n",
    "#         item = browser.find_elements_by_class_name(\"shopee-search-item-result__item\")[i]\n",
    "#         item.click()\n",
    "\n",
    "#         #product info\n",
    "#         product[\"title\"] = preprocess_text(browser.find_element_by_css_selector(\".qaNIZv\").text)\n",
    "#         product[\"price\"] = preprocess_text(browser.find_element_by_css_selector(\"._3n5NQx\").text)\n",
    "#         #product description\n",
    "#         product_details = browser.find_element_by_css_selector('div.product-detail.page-product__detail')\n",
    "#         product_desc_1, product_desc_2 = product_details.find_elements_by_tag_name(\"div\")[:2]\n",
    "#         for field in product_desc_1.find_elements_by_class_name(\"kIo6pj\"):\n",
    "#             label = field.find_element_by_tag_name(\"label\").text\n",
    "#             text = preprocess_text(field.text)\n",
    "#             product[label] = text\n",
    "\n",
    "#         details_2 = preprocess_text(product_details.find_element_by_class_name(\"_2u0jt9\").text)\n",
    "#         product[\"desc_2\"] = details_2\n",
    "#         product_lists.append(product)\n",
    "#         browser.back()\n",
    "#     return product_lists"
   ]
  },
  {
   "cell_type": "code",
   "execution_count": 499,
   "metadata": {},
   "outputs": [],
   "source": [
    "from tqdm.autonotebook import tqdm\n",
    "\n",
    "def crawl_link(link, browser, max_page=50, max_item=40):\n",
    "    \n",
    "    for page in range(max_page):\n",
    "        product_list = []\n",
    "        items = browser.find_elements_by_class_name(\"shopee-search-item-result__item\")    \n",
    "        for i in tqdm(range(min(max_item, len(items)))):\n",
    "            try:\n",
    "                product = {}\n",
    "                browser.implicitly_wait(1.5)\n",
    "                item = browser.find_elements_by_class_name(\"shopee-search-item-result__item\")[i]\n",
    "                item.click()\n",
    "\n",
    "                #product info\n",
    "                try:\n",
    "                    product[\"title\"] = preprocess_text(browser.find_element_by_css_selector(\".qaNIZv\").text)\n",
    "                    product[\"price\"] = preprocess_text(browser.find_element_by_css_selector(\"._3n5NQx\").text)\n",
    "\n",
    "                    #product description\n",
    "                    product_details = browser.find_element_by_css_selector('div.product-detail.page-product__detail')\n",
    "                    product_desc_1, product_desc_2 = product_details.find_elements_by_tag_name(\"div\")[:2]\n",
    "                    for field in product_desc_1.find_elements_by_class_name(\"kIo6pj\"):\n",
    "                        label = field.find_element_by_tag_name(\"label\").text\n",
    "                        text = preprocess_text(field.text)\n",
    "                        product[label] = text\n",
    "\n",
    "                    details_2 = preprocess_text(product_details.find_element_by_class_name(\"_2u0jt9\").text)\n",
    "                    product[\"desc_2\"] = details_2\n",
    "                    product_list.append(product)\n",
    "                except Exception as e:\n",
    "                    print(e)\n",
    "                browser.back()\n",
    "            except Exception as e:\n",
    "                print(e)\n",
    "                \n",
    "        next_page_btn = browser.find_element_by_css_selector(\"button.shopee-icon-button.shopee-icon-button--right\")\n",
    "        next_page_btn.send_keys(Keys.ENTER)\n",
    "        browser.implicitly_wait(2)\n",
    "        \n",
    "        link = link.split(\"/\")[-1]\n",
    "        filename = \"./dataset/{}_{}.json\".format(link, page)\n",
    "        with open(filename, 'w', encoding='utf8') as f:\n",
    "            json.dump(product_list, f, sort_keys=True, indent=4, ensure_ascii=False)\n",
    "        print(\"next click\")\n"
   ]
  },
  {
   "cell_type": "code",
   "execution_count": 503,
   "metadata": {
    "scrolled": true
   },
   "outputs": [
    {
     "name": "stdout",
     "output_type": "stream",
     "text": [
      "\n",
      "Looking for [chromedriver 78.0.3904.105 linux64] driver in cache \n",
      "File found in cache by path [/home/nguyen.thanh.trungb/.wdm/drivers/chromedriver/78.0.3904.105/linux64/chromedriver]\n"
     ]
    },
    {
     "data": {
      "application/vnd.jupyter.widget-view+json": {
       "model_id": "9a5dbee510c14b398e5db3626d4592e8",
       "version_major": 2,
       "version_minor": 0
      },
      "text/plain": [
       "HBox(children=(IntProgress(value=0, max=40), HTML(value='')))"
      ]
     },
     "metadata": {},
     "output_type": "display_data"
    },
    {
     "name": "stdout",
     "output_type": "stream",
     "text": [
      "Message: no such element: Unable to locate element: {\"method\":\"css selector\",\"selector\":\".qaNIZv\"}\n",
      "  (Session info: headless chrome=79.0.3945.88)\n",
      "\n",
      "\n",
      "next click\n"
     ]
    },
    {
     "data": {
      "application/vnd.jupyter.widget-view+json": {
       "model_id": "4b2e06fe47024c238b96901bf9eca049",
       "version_major": 2,
       "version_minor": 0
      },
      "text/plain": [
       "HBox(children=(IntProgress(value=0, max=40), HTML(value='')))"
      ]
     },
     "metadata": {},
     "output_type": "display_data"
    },
    {
     "name": "stdout",
     "output_type": "stream",
     "text": [
      "Message: no such element: Unable to locate element: {\"method\":\"css selector\",\"selector\":\".qaNIZv\"}\n",
      "  (Session info: headless chrome=79.0.3945.88)\n",
      "\n",
      "Message: no such element: Unable to locate element: {\"method\":\"css selector\",\"selector\":\".qaNIZv\"}\n",
      "  (Session info: headless chrome=79.0.3945.88)\n",
      "\n",
      "\n",
      "next click\n"
     ]
    },
    {
     "data": {
      "application/vnd.jupyter.widget-view+json": {
       "model_id": "311b0e93e6f9407197210d4d78bf5b48",
       "version_major": 2,
       "version_minor": 0
      },
      "text/plain": [
       "HBox(children=(IntProgress(value=0, max=40), HTML(value='')))"
      ]
     },
     "metadata": {},
     "output_type": "display_data"
    },
    {
     "name": "stdout",
     "output_type": "stream",
     "text": [
      "Message: no such element: Unable to locate element: {\"method\":\"css selector\",\"selector\":\"div.product-detail.page-product__detail\"}\n",
      "  (Session info: headless chrome=79.0.3945.88)\n",
      "\n",
      "\n",
      "next click\n"
     ]
    },
    {
     "data": {
      "application/vnd.jupyter.widget-view+json": {
       "model_id": "58c3cc9b2f3c426eb3705bfca590263f",
       "version_major": 2,
       "version_minor": 0
      },
      "text/plain": [
       "HBox(children=(IntProgress(value=0, max=40), HTML(value='')))"
      ]
     },
     "metadata": {},
     "output_type": "display_data"
    },
    {
     "name": "stdout",
     "output_type": "stream",
     "text": [
      "list index out of range\n",
      "\n",
      "next click\n"
     ]
    },
    {
     "data": {
      "application/vnd.jupyter.widget-view+json": {
       "model_id": "018046b652ac46c891ff4b21019b4e5e",
       "version_major": 2,
       "version_minor": 0
      },
      "text/plain": [
       "HBox(children=(IntProgress(value=0, max=40), HTML(value='')))"
      ]
     },
     "metadata": {},
     "output_type": "display_data"
    },
    {
     "name": "stdout",
     "output_type": "stream",
     "text": [
      "Message: no such element: Unable to locate element: {\"method\":\"css selector\",\"selector\":\".qaNIZv\"}\n",
      "  (Session info: headless chrome=79.0.3945.88)\n",
      "\n",
      "\n",
      "next click\n"
     ]
    },
    {
     "data": {
      "application/vnd.jupyter.widget-view+json": {
       "model_id": "044d8eb2641e42c5b0d1293456baecbb",
       "version_major": 2,
       "version_minor": 0
      },
      "text/plain": [
       "HBox(children=(IntProgress(value=0, max=40), HTML(value='')))"
      ]
     },
     "metadata": {},
     "output_type": "display_data"
    },
    {
     "name": "stdout",
     "output_type": "stream",
     "text": [
      "\n",
      "next click\n"
     ]
    },
    {
     "data": {
      "application/vnd.jupyter.widget-view+json": {
       "model_id": "e4d7bb55af0948eba1a1be20e0e3e63c",
       "version_major": 2,
       "version_minor": 0
      },
      "text/plain": [
       "HBox(children=(IntProgress(value=1, bar_style='info', max=1), HTML(value='')))"
      ]
     },
     "metadata": {},
     "output_type": "display_data"
    },
    {
     "name": "stdout",
     "output_type": "stream",
     "text": [
      "\n",
      "next click\n"
     ]
    },
    {
     "data": {
      "application/vnd.jupyter.widget-view+json": {
       "model_id": "8eb923b95bbd434fa3312e56521cdb16",
       "version_major": 2,
       "version_minor": 0
      },
      "text/plain": [
       "HBox(children=(IntProgress(value=0, max=40), HTML(value='')))"
      ]
     },
     "metadata": {},
     "output_type": "display_data"
    },
    {
     "name": "stdout",
     "output_type": "stream",
     "text": [
      "Message: no such element: Unable to locate element: {\"method\":\"css selector\",\"selector\":\".qaNIZv\"}\n",
      "  (Session info: headless chrome=79.0.3945.88)\n",
      "\n",
      "Message: no such element: Unable to locate element: {\"method\":\"css selector\",\"selector\":\".qaNIZv\"}\n",
      "  (Session info: headless chrome=79.0.3945.88)\n",
      "\n",
      "\n",
      "next click\n"
     ]
    },
    {
     "data": {
      "application/vnd.jupyter.widget-view+json": {
       "model_id": "08e4ea8fcc6f452bafdbdde87ec80729",
       "version_major": 2,
       "version_minor": 0
      },
      "text/plain": [
       "HBox(children=(IntProgress(value=0, max=40), HTML(value='')))"
      ]
     },
     "metadata": {},
     "output_type": "display_data"
    },
    {
     "name": "stdout",
     "output_type": "stream",
     "text": [
      "\n",
      "next click\n"
     ]
    },
    {
     "data": {
      "application/vnd.jupyter.widget-view+json": {
       "model_id": "35e9d72e853640a091fcfe8a642203e7",
       "version_major": 2,
       "version_minor": 0
      },
      "text/plain": [
       "HBox(children=(IntProgress(value=0, max=40), HTML(value='')))"
      ]
     },
     "metadata": {},
     "output_type": "display_data"
    },
    {
     "name": "stdout",
     "output_type": "stream",
     "text": [
      "\n",
      "next click\n"
     ]
    },
    {
     "data": {
      "application/vnd.jupyter.widget-view+json": {
       "model_id": "29d11ff7bdd847e8969bbacd57fc84ee",
       "version_major": 2,
       "version_minor": 0
      },
      "text/plain": [
       "HBox(children=(IntProgress(value=0, max=40), HTML(value='')))"
      ]
     },
     "metadata": {},
     "output_type": "display_data"
    },
    {
     "name": "stdout",
     "output_type": "stream",
     "text": [
      "\n",
      "next click\n"
     ]
    },
    {
     "data": {
      "application/vnd.jupyter.widget-view+json": {
       "model_id": "f27464f2f5c245e3a8575e64e41784cc",
       "version_major": 2,
       "version_minor": 0
      },
      "text/plain": [
       "HBox(children=(IntProgress(value=0, max=40), HTML(value='')))"
      ]
     },
     "metadata": {},
     "output_type": "display_data"
    },
    {
     "name": "stdout",
     "output_type": "stream",
     "text": [
      "Message: no such element: Unable to locate element: {\"method\":\"css selector\",\"selector\":\".qaNIZv\"}\n",
      "  (Session info: headless chrome=79.0.3945.88)\n",
      "\n",
      "Message: no such element: Unable to locate element: {\"method\":\"css selector\",\"selector\":\".qaNIZv\"}\n",
      "  (Session info: headless chrome=79.0.3945.88)\n",
      "\n",
      "Message: no such element: Unable to locate element: {\"method\":\"css selector\",\"selector\":\".qaNIZv\"}\n",
      "  (Session info: headless chrome=79.0.3945.88)\n",
      "\n",
      "\n",
      "next click\n"
     ]
    },
    {
     "data": {
      "application/vnd.jupyter.widget-view+json": {
       "model_id": "419dc6f18b424dbdbf769a4695c47f3a",
       "version_major": 2,
       "version_minor": 0
      },
      "text/plain": [
       "HBox(children=(IntProgress(value=1, bar_style='info', max=1), HTML(value='')))"
      ]
     },
     "metadata": {},
     "output_type": "display_data"
    },
    {
     "name": "stdout",
     "output_type": "stream",
     "text": [
      "\n",
      "next click\n"
     ]
    },
    {
     "data": {
      "application/vnd.jupyter.widget-view+json": {
       "model_id": "64c5bc2d45fc40d7a93ee7c3eaa59b35",
       "version_major": 2,
       "version_minor": 0
      },
      "text/plain": [
       "HBox(children=(IntProgress(value=0, max=40), HTML(value='')))"
      ]
     },
     "metadata": {},
     "output_type": "display_data"
    },
    {
     "name": "stdout",
     "output_type": "stream",
     "text": [
      "\n",
      "next click\n"
     ]
    },
    {
     "data": {
      "application/vnd.jupyter.widget-view+json": {
       "model_id": "ecd36f35f08143dc8dc416442d816a94",
       "version_major": 2,
       "version_minor": 0
      },
      "text/plain": [
       "HBox(children=(IntProgress(value=0, max=40), HTML(value='')))"
      ]
     },
     "metadata": {},
     "output_type": "display_data"
    },
    {
     "name": "stdout",
     "output_type": "stream",
     "text": [
      "Message: no such element: Unable to locate element: {\"method\":\"css selector\",\"selector\":\".qaNIZv\"}\n",
      "  (Session info: headless chrome=79.0.3945.88)\n",
      "\n",
      "\n",
      "next click\n"
     ]
    },
    {
     "data": {
      "application/vnd.jupyter.widget-view+json": {
       "model_id": "3346d98367b647f1837a26c29f8d6c0f",
       "version_major": 2,
       "version_minor": 0
      },
      "text/plain": [
       "HBox(children=(IntProgress(value=0, max=40), HTML(value='')))"
      ]
     },
     "metadata": {},
     "output_type": "display_data"
    },
    {
     "name": "stdout",
     "output_type": "stream",
     "text": [
      "\n",
      "next click\n"
     ]
    },
    {
     "data": {
      "application/vnd.jupyter.widget-view+json": {
       "model_id": "4bf4926630694a849a41bbbb368b25bb",
       "version_major": 2,
       "version_minor": 0
      },
      "text/plain": [
       "HBox(children=(IntProgress(value=0, max=40), HTML(value='')))"
      ]
     },
     "metadata": {},
     "output_type": "display_data"
    },
    {
     "name": "stdout",
     "output_type": "stream",
     "text": [
      "Message: no such element: Unable to locate element: {\"method\":\"css selector\",\"selector\":\".qaNIZv\"}\n",
      "  (Session info: headless chrome=79.0.3945.88)\n",
      "\n",
      "Message: no such element: Unable to locate element: {\"method\":\"css selector\",\"selector\":\".qaNIZv\"}\n",
      "  (Session info: headless chrome=79.0.3945.88)\n",
      "\n",
      "\n",
      "next click\n"
     ]
    },
    {
     "data": {
      "application/vnd.jupyter.widget-view+json": {
       "model_id": "f3af3791e1c4426f852e63dc10a99e06",
       "version_major": 2,
       "version_minor": 0
      },
      "text/plain": [
       "HBox(children=(IntProgress(value=0, max=40), HTML(value='')))"
      ]
     },
     "metadata": {},
     "output_type": "display_data"
    },
    {
     "name": "stdout",
     "output_type": "stream",
     "text": [
      "Message: no such element: Unable to locate element: {\"method\":\"css selector\",\"selector\":\".qaNIZv\"}\n",
      "  (Session info: headless chrome=79.0.3945.88)\n",
      "\n",
      "Message: no such element: Unable to locate element: {\"method\":\"css selector\",\"selector\":\".qaNIZv\"}\n",
      "  (Session info: headless chrome=79.0.3945.88)\n",
      "\n",
      "\n",
      "next click\n"
     ]
    },
    {
     "data": {
      "application/vnd.jupyter.widget-view+json": {
       "model_id": "91680179882a4ad59b4a6536a2425b14",
       "version_major": 2,
       "version_minor": 0
      },
      "text/plain": [
       "HBox(children=(IntProgress(value=1, bar_style='info', max=1), HTML(value='')))"
      ]
     },
     "metadata": {},
     "output_type": "display_data"
    },
    {
     "name": "stdout",
     "output_type": "stream",
     "text": [
      "\n",
      "next click\n"
     ]
    },
    {
     "data": {
      "application/vnd.jupyter.widget-view+json": {
       "model_id": "0767da91ce5a4d8a9d25918a61616054",
       "version_major": 2,
       "version_minor": 0
      },
      "text/plain": [
       "HBox(children=(IntProgress(value=0, max=40), HTML(value='')))"
      ]
     },
     "metadata": {},
     "output_type": "display_data"
    },
    {
     "name": "stdout",
     "output_type": "stream",
     "text": [
      "\n",
      "next click\n"
     ]
    },
    {
     "data": {
      "application/vnd.jupyter.widget-view+json": {
       "model_id": "5960a0e3f80f47328c8746bcd8035acb",
       "version_major": 2,
       "version_minor": 0
      },
      "text/plain": [
       "HBox(children=(IntProgress(value=0, max=40), HTML(value='')))"
      ]
     },
     "metadata": {},
     "output_type": "display_data"
    },
    {
     "name": "stdout",
     "output_type": "stream",
     "text": [
      "\n",
      "next click\n"
     ]
    },
    {
     "data": {
      "application/vnd.jupyter.widget-view+json": {
       "model_id": "b99f8153ead54405a1f6c0c38418c3f7",
       "version_major": 2,
       "version_minor": 0
      },
      "text/plain": [
       "HBox(children=(IntProgress(value=0, max=40), HTML(value='')))"
      ]
     },
     "metadata": {},
     "output_type": "display_data"
    },
    {
     "name": "stdout",
     "output_type": "stream",
     "text": [
      "\n",
      "next click\n"
     ]
    },
    {
     "data": {
      "application/vnd.jupyter.widget-view+json": {
       "model_id": "fdac8910a2304b129eb6ffa3ecd9f51a",
       "version_major": 2,
       "version_minor": 0
      },
      "text/plain": [
       "HBox(children=(IntProgress(value=0, max=40), HTML(value='')))"
      ]
     },
     "metadata": {},
     "output_type": "display_data"
    },
    {
     "name": "stdout",
     "output_type": "stream",
     "text": [
      "Message: no such element: Unable to locate element: {\"method\":\"css selector\",\"selector\":\".qaNIZv\"}\n",
      "  (Session info: headless chrome=79.0.3945.88)\n",
      "\n",
      "\n",
      "next click\n"
     ]
    },
    {
     "data": {
      "application/vnd.jupyter.widget-view+json": {
       "model_id": "d140c0e3c33244ac9a3d37224ff093d0",
       "version_major": 2,
       "version_minor": 0
      },
      "text/plain": [
       "HBox(children=(IntProgress(value=0, max=40), HTML(value='')))"
      ]
     },
     "metadata": {},
     "output_type": "display_data"
    },
    {
     "name": "stdout",
     "output_type": "stream",
     "text": [
      "list index out of range\n",
      "\n",
      "next click\n"
     ]
    },
    {
     "data": {
      "application/vnd.jupyter.widget-view+json": {
       "model_id": "b82a437b6d60428983c3d0c64d2a3a95",
       "version_major": 2,
       "version_minor": 0
      },
      "text/plain": [
       "HBox(children=(IntProgress(value=0, max=40), HTML(value='')))"
      ]
     },
     "metadata": {},
     "output_type": "display_data"
    },
    {
     "name": "stdout",
     "output_type": "stream",
     "text": [
      "Message: no such element: Unable to locate element: {\"method\":\"css selector\",\"selector\":\".qaNIZv\"}\n",
      "  (Session info: headless chrome=79.0.3945.88)\n",
      "\n",
      "list index out of range\n",
      "\n",
      "next click\n"
     ]
    },
    {
     "data": {
      "application/vnd.jupyter.widget-view+json": {
       "model_id": "9040370f517b4c16a00ff981e6ce576e",
       "version_major": 2,
       "version_minor": 0
      },
      "text/plain": [
       "HBox(children=(IntProgress(value=0, max=40), HTML(value='')))"
      ]
     },
     "metadata": {},
     "output_type": "display_data"
    },
    {
     "name": "stdout",
     "output_type": "stream",
     "text": [
      "\n",
      "next click\n"
     ]
    },
    {
     "data": {
      "application/vnd.jupyter.widget-view+json": {
       "model_id": "ba80b50083864d67883e2deae37a8b84",
       "version_major": 2,
       "version_minor": 0
      },
      "text/plain": [
       "HBox(children=(IntProgress(value=0, max=40), HTML(value='')))"
      ]
     },
     "metadata": {},
     "output_type": "display_data"
    },
    {
     "name": "stdout",
     "output_type": "stream",
     "text": [
      "Message: no such element: Unable to locate element: {\"method\":\"css selector\",\"selector\":\".qaNIZv\"}\n",
      "  (Session info: headless chrome=79.0.3945.88)\n",
      "\n",
      "Message: no such element: Unable to locate element: {\"method\":\"css selector\",\"selector\":\".qaNIZv\"}\n",
      "  (Session info: headless chrome=79.0.3945.88)\n",
      "\n",
      "\n",
      "next click\n"
     ]
    },
    {
     "data": {
      "application/vnd.jupyter.widget-view+json": {
       "model_id": "c51f4f27c49f45a590fe0622e3cb3427",
       "version_major": 2,
       "version_minor": 0
      },
      "text/plain": [
       "HBox(children=(IntProgress(value=0, max=40), HTML(value='')))"
      ]
     },
     "metadata": {},
     "output_type": "display_data"
    },
    {
     "name": "stdout",
     "output_type": "stream",
     "text": [
      "Message: no such element: Unable to locate element: {\"method\":\"css selector\",\"selector\":\".qaNIZv\"}\n",
      "  (Session info: headless chrome=79.0.3945.88)\n",
      "\n",
      "\n",
      "next click\n"
     ]
    },
    {
     "data": {
      "application/vnd.jupyter.widget-view+json": {
       "model_id": "568896a2410a48269f3a1899d44ac36f",
       "version_major": 2,
       "version_minor": 0
      },
      "text/plain": [
       "HBox(children=(IntProgress(value=0, max=40), HTML(value='')))"
      ]
     },
     "metadata": {},
     "output_type": "display_data"
    },
    {
     "name": "stdout",
     "output_type": "stream",
     "text": [
      "\n",
      "next click\n"
     ]
    },
    {
     "data": {
      "application/vnd.jupyter.widget-view+json": {
       "model_id": "9016eff09df843e19df5d1aa81e7f9c9",
       "version_major": 2,
       "version_minor": 0
      },
      "text/plain": [
       "HBox(children=(IntProgress(value=0, max=40), HTML(value='')))"
      ]
     },
     "metadata": {},
     "output_type": "display_data"
    },
    {
     "name": "stdout",
     "output_type": "stream",
     "text": [
      "\n",
      "next click\n"
     ]
    },
    {
     "data": {
      "application/vnd.jupyter.widget-view+json": {
       "model_id": "4e3de575fca947509eed2c4a954b254b",
       "version_major": 2,
       "version_minor": 0
      },
      "text/plain": [
       "HBox(children=(IntProgress(value=1, bar_style='info', max=1), HTML(value='')))"
      ]
     },
     "metadata": {},
     "output_type": "display_data"
    },
    {
     "name": "stdout",
     "output_type": "stream",
     "text": [
      "\n",
      "next click\n"
     ]
    },
    {
     "data": {
      "application/vnd.jupyter.widget-view+json": {
       "model_id": "b508a75499674c448cd62d3ca47d1c0a",
       "version_major": 2,
       "version_minor": 0
      },
      "text/plain": [
       "HBox(children=(IntProgress(value=0, max=40), HTML(value='')))"
      ]
     },
     "metadata": {},
     "output_type": "display_data"
    },
    {
     "name": "stdout",
     "output_type": "stream",
     "text": [
      "\n",
      "next click\n"
     ]
    },
    {
     "data": {
      "application/vnd.jupyter.widget-view+json": {
       "model_id": "5fa65c95612c4deb8ae176bae339dd71",
       "version_major": 2,
       "version_minor": 0
      },
      "text/plain": [
       "HBox(children=(IntProgress(value=0, max=40), HTML(value='')))"
      ]
     },
     "metadata": {},
     "output_type": "display_data"
    },
    {
     "name": "stdout",
     "output_type": "stream",
     "text": [
      "\n",
      "next click\n"
     ]
    },
    {
     "data": {
      "application/vnd.jupyter.widget-view+json": {
       "model_id": "e83b9c01b0ab4bb4aad8a870c54752a5",
       "version_major": 2,
       "version_minor": 0
      },
      "text/plain": [
       "HBox(children=(IntProgress(value=0, max=40), HTML(value='')))"
      ]
     },
     "metadata": {},
     "output_type": "display_data"
    },
    {
     "name": "stdout",
     "output_type": "stream",
     "text": [
      "\n",
      "next click\n"
     ]
    },
    {
     "data": {
      "application/vnd.jupyter.widget-view+json": {
       "model_id": "1d73124fb071418aa1ec154fb621dda6",
       "version_major": 2,
       "version_minor": 0
      },
      "text/plain": [
       "HBox(children=(IntProgress(value=0, max=40), HTML(value='')))"
      ]
     },
     "metadata": {},
     "output_type": "display_data"
    },
    {
     "name": "stdout",
     "output_type": "stream",
     "text": [
      "\n",
      "next click\n"
     ]
    },
    {
     "data": {
      "application/vnd.jupyter.widget-view+json": {
       "model_id": "6e1c36699e38416699d0fbbd0a1bf63c",
       "version_major": 2,
       "version_minor": 0
      },
      "text/plain": [
       "HBox(children=(IntProgress(value=0, max=40), HTML(value='')))"
      ]
     },
     "metadata": {},
     "output_type": "display_data"
    },
    {
     "name": "stdout",
     "output_type": "stream",
     "text": [
      "\n",
      "next click\n"
     ]
    },
    {
     "data": {
      "application/vnd.jupyter.widget-view+json": {
       "model_id": "9a7a24dc428c421a9ded73d84e4e028c",
       "version_major": 2,
       "version_minor": 0
      },
      "text/plain": [
       "HBox(children=(IntProgress(value=1, bar_style='info', max=1), HTML(value='')))"
      ]
     },
     "metadata": {},
     "output_type": "display_data"
    },
    {
     "name": "stdout",
     "output_type": "stream",
     "text": [
      "\n",
      "next click\n"
     ]
    },
    {
     "data": {
      "application/vnd.jupyter.widget-view+json": {
       "model_id": "e85d85fe33274245b663972b959a2ef4",
       "version_major": 2,
       "version_minor": 0
      },
      "text/plain": [
       "HBox(children=(IntProgress(value=0, max=40), HTML(value='')))"
      ]
     },
     "metadata": {},
     "output_type": "display_data"
    },
    {
     "name": "stdout",
     "output_type": "stream",
     "text": [
      "\n",
      "next click\n"
     ]
    },
    {
     "data": {
      "application/vnd.jupyter.widget-view+json": {
       "model_id": "517e4d8e35c144c4beafffaeb1d81e8e",
       "version_major": 2,
       "version_minor": 0
      },
      "text/plain": [
       "HBox(children=(IntProgress(value=0, max=40), HTML(value='')))"
      ]
     },
     "metadata": {},
     "output_type": "display_data"
    },
    {
     "name": "stdout",
     "output_type": "stream",
     "text": [
      "Message: no such element: Unable to locate element: {\"method\":\"css selector\",\"selector\":\".qaNIZv\"}\n",
      "  (Session info: headless chrome=79.0.3945.88)\n",
      "\n",
      "Message: no such element: Unable to locate element: {\"method\":\"css selector\",\"selector\":\".qaNIZv\"}\n",
      "  (Session info: headless chrome=79.0.3945.88)\n",
      "\n",
      "\n",
      "next click\n"
     ]
    },
    {
     "data": {
      "application/vnd.jupyter.widget-view+json": {
       "model_id": "4a03369278504b4f8e83850ac6fe0ec0",
       "version_major": 2,
       "version_minor": 0
      },
      "text/plain": [
       "HBox(children=(IntProgress(value=0, max=40), HTML(value='')))"
      ]
     },
     "metadata": {},
     "output_type": "display_data"
    },
    {
     "name": "stdout",
     "output_type": "stream",
     "text": [
      "\n",
      "next click\n"
     ]
    },
    {
     "data": {
      "application/vnd.jupyter.widget-view+json": {
       "model_id": "2d415ae9edca45428923688ebc0951aa",
       "version_major": 2,
       "version_minor": 0
      },
      "text/plain": [
       "HBox(children=(IntProgress(value=0, max=40), HTML(value='')))"
      ]
     },
     "metadata": {},
     "output_type": "display_data"
    },
    {
     "name": "stdout",
     "output_type": "stream",
     "text": [
      "\n",
      "next click\n"
     ]
    },
    {
     "data": {
      "application/vnd.jupyter.widget-view+json": {
       "model_id": "6bb46e945e444afebe1bba8526272978",
       "version_major": 2,
       "version_minor": 0
      },
      "text/plain": [
       "HBox(children=(IntProgress(value=0, max=40), HTML(value='')))"
      ]
     },
     "metadata": {},
     "output_type": "display_data"
    },
    {
     "name": "stdout",
     "output_type": "stream",
     "text": [
      "\n",
      "next click\n"
     ]
    },
    {
     "data": {
      "application/vnd.jupyter.widget-view+json": {
       "model_id": "861249dc178c41f7a6071ca34c47e789",
       "version_major": 2,
       "version_minor": 0
      },
      "text/plain": [
       "HBox(children=(IntProgress(value=0, max=40), HTML(value='')))"
      ]
     },
     "metadata": {},
     "output_type": "display_data"
    },
    {
     "name": "stdout",
     "output_type": "stream",
     "text": [
      "list index out of range\n",
      "Message: no such element: Unable to locate element: {\"method\":\"css selector\",\"selector\":\".qaNIZv\"}\n",
      "  (Session info: headless chrome=79.0.3945.88)\n",
      "\n",
      "Message: no such element: Unable to locate element: {\"method\":\"css selector\",\"selector\":\".qaNIZv\"}\n",
      "  (Session info: headless chrome=79.0.3945.88)\n",
      "\n",
      "\n",
      "next click\n"
     ]
    },
    {
     "data": {
      "application/vnd.jupyter.widget-view+json": {
       "model_id": "b236f51f24f54bcc8861706ef9fc91ca",
       "version_major": 2,
       "version_minor": 0
      },
      "text/plain": [
       "HBox(children=(IntProgress(value=0, max=40), HTML(value='')))"
      ]
     },
     "metadata": {},
     "output_type": "display_data"
    },
    {
     "name": "stdout",
     "output_type": "stream",
     "text": [
      "list index out of range\n",
      "\n",
      "next click\n"
     ]
    },
    {
     "data": {
      "application/vnd.jupyter.widget-view+json": {
       "model_id": "db2d36e7fd1749408878364a3dcc5407",
       "version_major": 2,
       "version_minor": 0
      },
      "text/plain": [
       "HBox(children=(IntProgress(value=0, max=40), HTML(value='')))"
      ]
     },
     "metadata": {},
     "output_type": "display_data"
    },
    {
     "name": "stdout",
     "output_type": "stream",
     "text": [
      "Message: no such element: Unable to locate element: {\"method\":\"css selector\",\"selector\":\".qaNIZv\"}\n",
      "  (Session info: headless chrome=79.0.3945.88)\n",
      "\n",
      "\n",
      "next click\n"
     ]
    },
    {
     "data": {
      "application/vnd.jupyter.widget-view+json": {
       "model_id": "f1cf26cd2ebf4243a02510674faeb06a",
       "version_major": 2,
       "version_minor": 0
      },
      "text/plain": [
       "HBox(children=(IntProgress(value=0, max=40), HTML(value='')))"
      ]
     },
     "metadata": {},
     "output_type": "display_data"
    },
    {
     "name": "stdout",
     "output_type": "stream",
     "text": [
      "\n",
      "next click\n"
     ]
    },
    {
     "data": {
      "application/vnd.jupyter.widget-view+json": {
       "model_id": "e7127c3e7bfd41f0b1f6299e788ee65a",
       "version_major": 2,
       "version_minor": 0
      },
      "text/plain": [
       "HBox(children=(IntProgress(value=0, max=40), HTML(value='')))"
      ]
     },
     "metadata": {},
     "output_type": "display_data"
    },
    {
     "name": "stdout",
     "output_type": "stream",
     "text": [
      "Message: no such element: Unable to locate element: {\"method\":\"css selector\",\"selector\":\".qaNIZv\"}\n",
      "  (Session info: headless chrome=79.0.3945.88)\n",
      "\n",
      "\n",
      "next click\n"
     ]
    },
    {
     "data": {
      "application/vnd.jupyter.widget-view+json": {
       "model_id": "97cc906c1095438eba62a42d678d4486",
       "version_major": 2,
       "version_minor": 0
      },
      "text/plain": [
       "HBox(children=(IntProgress(value=0, max=40), HTML(value='')))"
      ]
     },
     "metadata": {},
     "output_type": "display_data"
    },
    {
     "name": "stdout",
     "output_type": "stream",
     "text": [
      "Message: no such element: Unable to locate element: {\"method\":\"css selector\",\"selector\":\".qaNIZv\"}\n",
      "  (Session info: headless chrome=79.0.3945.88)\n",
      "\n",
      "Message: no such element: Unable to locate element: {\"method\":\"css selector\",\"selector\":\".qaNIZv\"}\n",
      "  (Session info: headless chrome=79.0.3945.88)\n",
      "\n",
      "\n",
      "next click\n"
     ]
    },
    {
     "data": {
      "application/vnd.jupyter.widget-view+json": {
       "model_id": "e688f8c11a9046d18cd92b2f37cb6b21",
       "version_major": 2,
       "version_minor": 0
      },
      "text/plain": [
       "HBox(children=(IntProgress(value=1, bar_style='info', max=1), HTML(value='')))"
      ]
     },
     "metadata": {},
     "output_type": "display_data"
    },
    {
     "name": "stdout",
     "output_type": "stream",
     "text": [
      "\n",
      "next click\n"
     ]
    },
    {
     "data": {
      "application/vnd.jupyter.widget-view+json": {
       "model_id": "79de1dd1961f42c09cda38ae44596a68",
       "version_major": 2,
       "version_minor": 0
      },
      "text/plain": [
       "HBox(children=(IntProgress(value=0, max=40), HTML(value='')))"
      ]
     },
     "metadata": {},
     "output_type": "display_data"
    },
    {
     "name": "stdout",
     "output_type": "stream",
     "text": [
      "Message: no such element: Unable to locate element: {\"method\":\"css selector\",\"selector\":\".qaNIZv\"}\n",
      "  (Session info: headless chrome=79.0.3945.88)\n",
      "\n",
      "\n",
      "next click\n"
     ]
    },
    {
     "data": {
      "application/vnd.jupyter.widget-view+json": {
       "model_id": "8ad407f91dc74c219c4bb26dc5eb8d7f",
       "version_major": 2,
       "version_minor": 0
      },
      "text/plain": [
       "HBox(children=(IntProgress(value=0, max=40), HTML(value='')))"
      ]
     },
     "metadata": {},
     "output_type": "display_data"
    },
    {
     "name": "stdout",
     "output_type": "stream",
     "text": [
      "\n",
      "next click\n"
     ]
    },
    {
     "data": {
      "application/vnd.jupyter.widget-view+json": {
       "model_id": "8e38b44df5854c2398a212c1d984b20d",
       "version_major": 2,
       "version_minor": 0
      },
      "text/plain": [
       "HBox(children=(IntProgress(value=0, max=40), HTML(value='')))"
      ]
     },
     "metadata": {},
     "output_type": "display_data"
    },
    {
     "name": "stdout",
     "output_type": "stream",
     "text": [
      "Message: no such element: Unable to locate element: {\"method\":\"css selector\",\"selector\":\".qaNIZv\"}\n",
      "  (Session info: headless chrome=79.0.3945.88)\n",
      "\n",
      "\n",
      "next click\n"
     ]
    },
    {
     "data": {
      "application/vnd.jupyter.widget-view+json": {
       "model_id": "84360623ccbd42d28a749a4e609ac437",
       "version_major": 2,
       "version_minor": 0
      },
      "text/plain": [
       "HBox(children=(IntProgress(value=0, max=40), HTML(value='')))"
      ]
     },
     "metadata": {},
     "output_type": "display_data"
    },
    {
     "name": "stdout",
     "output_type": "stream",
     "text": [
      "\n",
      "next click\n"
     ]
    },
    {
     "data": {
      "application/vnd.jupyter.widget-view+json": {
       "model_id": "2eaaf0df91024b6e8a2925209ab89d84",
       "version_major": 2,
       "version_minor": 0
      },
      "text/plain": [
       "HBox(children=(IntProgress(value=0, max=40), HTML(value='')))"
      ]
     },
     "metadata": {},
     "output_type": "display_data"
    },
    {
     "name": "stdout",
     "output_type": "stream",
     "text": [
      "Message: no such element: Unable to locate element: {\"method\":\"css selector\",\"selector\":\".qaNIZv\"}\n",
      "  (Session info: headless chrome=79.0.3945.88)\n",
      "\n",
      "\n",
      "next click\n"
     ]
    },
    {
     "data": {
      "application/vnd.jupyter.widget-view+json": {
       "model_id": "4b79c9de5421433c8671b045e2efce7c",
       "version_major": 2,
       "version_minor": 0
      },
      "text/plain": [
       "HBox(children=(IntProgress(value=0, max=40), HTML(value='')))"
      ]
     },
     "metadata": {},
     "output_type": "display_data"
    },
    {
     "name": "stdout",
     "output_type": "stream",
     "text": [
      "\n",
      "next click\n"
     ]
    },
    {
     "data": {
      "application/vnd.jupyter.widget-view+json": {
       "model_id": "805ea3854d7c4899ac4a507283c28f4d",
       "version_major": 2,
       "version_minor": 0
      },
      "text/plain": [
       "HBox(children=(IntProgress(value=0, max=40), HTML(value='')))"
      ]
     },
     "metadata": {},
     "output_type": "display_data"
    },
    {
     "name": "stdout",
     "output_type": "stream",
     "text": [
      "Message: no such element: Unable to locate element: {\"method\":\"css selector\",\"selector\":\".qaNIZv\"}\n",
      "  (Session info: headless chrome=79.0.3945.88)\n",
      "\n",
      "Message: no such element: Unable to locate element: {\"method\":\"css selector\",\"selector\":\"div.product-detail.page-product__detail\"}\n",
      "  (Session info: headless chrome=79.0.3945.88)\n",
      "\n",
      "Message: no such element: Unable to locate element: {\"method\":\"css selector\",\"selector\":\".qaNIZv\"}\n",
      "  (Session info: headless chrome=79.0.3945.88)\n",
      "\n",
      "list index out of range\n",
      "\n",
      "next click\n"
     ]
    },
    {
     "data": {
      "application/vnd.jupyter.widget-view+json": {
       "model_id": "d76818a246a240f59b762a02feddcd66",
       "version_major": 2,
       "version_minor": 0
      },
      "text/plain": [
       "HBox(children=(IntProgress(value=0, max=40), HTML(value='')))"
      ]
     },
     "metadata": {},
     "output_type": "display_data"
    },
    {
     "name": "stdout",
     "output_type": "stream",
     "text": [
      "list index out of range\n",
      "\n",
      "next click\n"
     ]
    },
    {
     "data": {
      "application/vnd.jupyter.widget-view+json": {
       "model_id": "51c1b239bc6c4b35ad0b84129681f118",
       "version_major": 2,
       "version_minor": 0
      },
      "text/plain": [
       "HBox(children=(IntProgress(value=0, max=40), HTML(value='')))"
      ]
     },
     "metadata": {},
     "output_type": "display_data"
    },
    {
     "name": "stdout",
     "output_type": "stream",
     "text": [
      "Message: no such element: Unable to locate element: {\"method\":\"css selector\",\"selector\":\".qaNIZv\"}\n",
      "  (Session info: headless chrome=79.0.3945.88)\n",
      "\n",
      "\n",
      "next click\n"
     ]
    },
    {
     "data": {
      "application/vnd.jupyter.widget-view+json": {
       "model_id": "d51c7c5bfc364c0fbbbd0f0ab1fca0f5",
       "version_major": 2,
       "version_minor": 0
      },
      "text/plain": [
       "HBox(children=(IntProgress(value=0, max=40), HTML(value='')))"
      ]
     },
     "metadata": {},
     "output_type": "display_data"
    },
    {
     "name": "stdout",
     "output_type": "stream",
     "text": [
      "\n",
      "next click\n"
     ]
    },
    {
     "data": {
      "application/vnd.jupyter.widget-view+json": {
       "model_id": "cfb5bb144e6c46bdae9c83701b1ce16d",
       "version_major": 2,
       "version_minor": 0
      },
      "text/plain": [
       "HBox(children=(IntProgress(value=0, max=40), HTML(value='')))"
      ]
     },
     "metadata": {},
     "output_type": "display_data"
    },
    {
     "name": "stdout",
     "output_type": "stream",
     "text": [
      "Message: no such element: Unable to locate element: {\"method\":\"css selector\",\"selector\":\".qaNIZv\"}\n",
      "  (Session info: headless chrome=79.0.3945.88)\n",
      "\n",
      "list index out of range\n",
      "\n",
      "next click\n"
     ]
    },
    {
     "data": {
      "application/vnd.jupyter.widget-view+json": {
       "model_id": "b8ec61e57a1046b480cd75951c282e59",
       "version_major": 2,
       "version_minor": 0
      },
      "text/plain": [
       "HBox(children=(IntProgress(value=1, bar_style='info', max=1), HTML(value='')))"
      ]
     },
     "metadata": {},
     "output_type": "display_data"
    },
    {
     "name": "stdout",
     "output_type": "stream",
     "text": [
      "\n",
      "next click\n"
     ]
    },
    {
     "data": {
      "application/vnd.jupyter.widget-view+json": {
       "model_id": "9c537bccefa94abe839cde165f5b9b4c",
       "version_major": 2,
       "version_minor": 0
      },
      "text/plain": [
       "HBox(children=(IntProgress(value=0, max=40), HTML(value='')))"
      ]
     },
     "metadata": {},
     "output_type": "display_data"
    },
    {
     "name": "stdout",
     "output_type": "stream",
     "text": [
      "\n",
      "next click\n"
     ]
    },
    {
     "data": {
      "application/vnd.jupyter.widget-view+json": {
       "model_id": "c14d13f83abd422cb0f369e97bb150fc",
       "version_major": 2,
       "version_minor": 0
      },
      "text/plain": [
       "HBox(children=(IntProgress(value=0, max=40), HTML(value='')))"
      ]
     },
     "metadata": {},
     "output_type": "display_data"
    },
    {
     "name": "stdout",
     "output_type": "stream",
     "text": [
      "Message: no such element: Unable to locate element: {\"method\":\"css selector\",\"selector\":\".qaNIZv\"}\n",
      "  (Session info: headless chrome=79.0.3945.88)\n",
      "\n",
      "\n",
      "next click\n"
     ]
    },
    {
     "data": {
      "application/vnd.jupyter.widget-view+json": {
       "model_id": "28c6b90f765d45bebbb34d865e87f706",
       "version_major": 2,
       "version_minor": 0
      },
      "text/plain": [
       "HBox(children=(IntProgress(value=0, max=40), HTML(value='')))"
      ]
     },
     "metadata": {},
     "output_type": "display_data"
    },
    {
     "name": "stdout",
     "output_type": "stream",
     "text": [
      "list index out of range\n",
      "\n",
      "next click\n"
     ]
    },
    {
     "data": {
      "application/vnd.jupyter.widget-view+json": {
       "model_id": "7b0177900f4a439b97c3fdc7f45f2bd1",
       "version_major": 2,
       "version_minor": 0
      },
      "text/plain": [
       "HBox(children=(IntProgress(value=1, bar_style='info', max=1), HTML(value='')))"
      ]
     },
     "metadata": {},
     "output_type": "display_data"
    },
    {
     "name": "stdout",
     "output_type": "stream",
     "text": [
      "\n",
      "next click\n"
     ]
    },
    {
     "data": {
      "application/vnd.jupyter.widget-view+json": {
       "model_id": "0704ca9a3bf143de8789f488fe76b17c",
       "version_major": 2,
       "version_minor": 0
      },
      "text/plain": [
       "HBox(children=(IntProgress(value=0, max=40), HTML(value='')))"
      ]
     },
     "metadata": {},
     "output_type": "display_data"
    },
    {
     "name": "stdout",
     "output_type": "stream",
     "text": [
      "\n",
      "next click\n"
     ]
    },
    {
     "data": {
      "application/vnd.jupyter.widget-view+json": {
       "model_id": "fec45b59206b45b4b10c5f3e9088824c",
       "version_major": 2,
       "version_minor": 0
      },
      "text/plain": [
       "HBox(children=(IntProgress(value=1, bar_style='info', max=1), HTML(value='')))"
      ]
     },
     "metadata": {},
     "output_type": "display_data"
    },
    {
     "name": "stdout",
     "output_type": "stream",
     "text": [
      "\n",
      "next click\n"
     ]
    },
    {
     "data": {
      "application/vnd.jupyter.widget-view+json": {
       "model_id": "4a30a116475249249f2ba5bd2aabfae0",
       "version_major": 2,
       "version_minor": 0
      },
      "text/plain": [
       "HBox(children=(IntProgress(value=0, max=40), HTML(value='')))"
      ]
     },
     "metadata": {},
     "output_type": "display_data"
    },
    {
     "name": "stdout",
     "output_type": "stream",
     "text": [
      "\n",
      "next click\n"
     ]
    },
    {
     "data": {
      "application/vnd.jupyter.widget-view+json": {
       "model_id": "364e0ac139504dc088af356858889d5c",
       "version_major": 2,
       "version_minor": 0
      },
      "text/plain": [
       "HBox(children=(IntProgress(value=0, max=40), HTML(value='')))"
      ]
     },
     "metadata": {},
     "output_type": "display_data"
    },
    {
     "name": "stdout",
     "output_type": "stream",
     "text": [
      "\n",
      "next click\n"
     ]
    },
    {
     "data": {
      "application/vnd.jupyter.widget-view+json": {
       "model_id": "386240b41da34d3298998cfee73f2b96",
       "version_major": 2,
       "version_minor": 0
      },
      "text/plain": [
       "HBox(children=(IntProgress(value=0, max=40), HTML(value='')))"
      ]
     },
     "metadata": {},
     "output_type": "display_data"
    },
    {
     "name": "stdout",
     "output_type": "stream",
     "text": [
      "\n",
      "next click\n"
     ]
    },
    {
     "data": {
      "application/vnd.jupyter.widget-view+json": {
       "model_id": "3c8a2a61e197428f8e778170bd701e6e",
       "version_major": 2,
       "version_minor": 0
      },
      "text/plain": [
       "HBox(children=(IntProgress(value=0, max=40), HTML(value='')))"
      ]
     },
     "metadata": {},
     "output_type": "display_data"
    },
    {
     "name": "stdout",
     "output_type": "stream",
     "text": [
      "Message: no such element: Unable to locate element: {\"method\":\"css selector\",\"selector\":\".qaNIZv\"}\n",
      "  (Session info: headless chrome=79.0.3945.88)\n",
      "\n",
      "\n",
      "next click\n"
     ]
    },
    {
     "data": {
      "application/vnd.jupyter.widget-view+json": {
       "model_id": "a36e31cb6f9a4be09dfb1a804b739f03",
       "version_major": 2,
       "version_minor": 0
      },
      "text/plain": [
       "HBox(children=(IntProgress(value=0, max=40), HTML(value='')))"
      ]
     },
     "metadata": {},
     "output_type": "display_data"
    },
    {
     "name": "stdout",
     "output_type": "stream",
     "text": [
      "\n",
      "next click\n"
     ]
    }
   ],
   "source": [
    "chrome_link = ChromeDriverManager().install()\n",
    "links = [\n",
    "    \"https://shopee.vn/%C3%81o-cat.77.1871\",\n",
    "    \"https://shopee.vn/%C4%90%E1%BA%A7m-cat.77.2821\",\n",
    "    \"https://shopee.vn/Ch%C3%A2n-v%C3%A1y-cat.77.2822\",\n",
    "    \"https://shopee.vn/Qu%E1%BA%A7n-cat.77.1877\",\n",
    "    \"https://shopee.vn/%C4%90%E1%BB%93-%C4%91%C3%B4i-cat.77.2335\",\n",
    "    \"https://shopee.vn/%C4%90%E1%BB%93-l%C3%B3t-%C4%90%E1%BB%93-ng%E1%BB%A7-%C4%90%E1%BB%93-m%E1%BA%B7c-nh%C3%A0-cat.77.1879\",\n",
    "    \"https://shopee.vn/Trang-ph%E1%BB%A5c-th%E1%BB%83-thao-cat.77.2823\",\n",
    "    \"https://shopee.vn/Ph%E1%BB%A5-ki%E1%BB%87n-may-m%E1%BA%B7c-cat.77.10576\",\n",
    "    \"https://shopee.vn/Th%E1%BB%9Di-trang-trung-ni%C3%AAn-cat.77.13506\",\n",
    "    \"https://shopee.vn/%C3%81o-kho%C3%A1c-%C3%81o-vest-cat.77.1875\",\n",
    "    \"https://shopee.vn/Trang-Ph%E1%BB%A5c-%C4%90%C3%B4ng-cat.77.9865\",\n",
    "    \"https://shopee.vn/Th%E1%BB%9Di-trang-b%E1%BA%A7u-v%C3%A0-sau-sinh-cat.77.16848\"\n",
    "]\n",
    "\n",
    "browser = Chrome(chrome_link, options=opts)\n",
    "browser.implicitly_wait(2000)\n",
    "for link in links:\n",
    "    browser.get(link)\n",
    "    crawl_link(link, browser, max_page=6, max_item=40)"
   ]
  },
  {
   "cell_type": "code",
   "execution_count": 454,
   "metadata": {},
   "outputs": [
    {
     "name": "stdout",
     "output_type": "stream",
     "text": [
      "áo thun nam\n",
      "20\n",
      "váy ngắn nữ\n",
      "20\n",
      "quần bò nam\n",
      "20\n",
      "áo len\n",
      "20\n",
      "quần đùi nam\n",
      "20\n",
      "áo sơ mi trắng\n",
      "20\n",
      "áo sơ mi màu\n",
      "0\n",
      "áo sơ mi công sở\n",
      "20\n",
      "váy công sở\n",
      "20\n",
      "áo thun nữ\n",
      "20\n",
      "đồ ngủ\n",
      "0\n",
      "váy ngủ\n",
      "20\n"
     ]
    }
   ],
   "source": [
    "import json\n",
    "\n",
    "# product_lists = []\n",
    "# for query in queries:\n",
    "#     print(query)\n",
    "#     product_list = search(query, browser)\n",
    "#     print(len(product_list))\n",
    "    \n"
   ]
  },
  {
   "cell_type": "code",
   "execution_count": 432,
   "metadata": {},
   "outputs": [
    {
     "name": "stdout",
     "output_type": "stream",
     "text": [
      "[{'Chất liệu': 'chất liệu chiffon',\n",
      "  'Danh Mục': 'danh mục thời trang nữ áo áo kiểu',\n",
      "  'Kho hàng': 'kho hàng 1994',\n",
      "  'Kiểu tay': 'kiểu tay dài tay',\n",
      "  'Thương hiệu': 'thương hiệu no brand',\n",
      "  'desc_2': ' size chart size cm inch s length60cm 2362 chest88cm 3465 '\n",
      "            'shoulder35cm 1378 sleeve56cm 2205 m length61cm 2402 chest92cm '\n",
      "            '3622 shoulder36cm 1417 sleeve57cm 2244 l length62cm 2441 '\n",
      "            'chest96cm 3780 shoulder37cm 1457 sleeve58cm 2283 xl length63cm '\n",
      "            '2480 chest100cm 3937 shoulder38cm 1496 sleeve59cm 2323 2xl '\n",
      "            'length64cm 2520 chest104cm 4094 shoulder39cm 1535 sleeve60cm 2362 '\n",
      "            'note depend on defferent measurement methods  1 3cm error is '\n",
      "            'normal promotion promo 1 new customers follow our store and like '\n",
      "            '5 items which can be reduced by 2000 vnd  follow our store there '\n",
      "            'will be surprises for you new designs and big discounts  promo 2 '\n",
      "            'all five star praise 5 off repurchase  your five star is the best '\n",
      "            'support for our store promo 3 wholesale and drop shipping large '\n",
      "            'orders please contact with us and get special discounts note all '\n",
      "            'products are shipped from main land china it will usually take 5 '\n",
      "            '15 business days to reach you korea fashion korean koreanfashion '\n",
      "            'womenclothes femaleclothes readystock sale wholesale '\n",
      "            'wholesaleclothing cheap cheapclothes verycheap goodquality '\n",
      "            'fashionwomen womenclothing womentops womenshirt womenblouse',\n",
      "  'price': '165000',\n",
      "  'title': 'áo sơ mi voan dài tay thêu hoa phong cách hàn quốc thanh lịch dành '\n",
      "           'cho nữ'},\n",
      " {'Chất liệu': 'chất liệu lụa',\n",
      "  'Danh Mục': 'danh mục thời trang nữ áo áo sơ mi',\n",
      "  'Gửi từ': 'gửi từ quận 11 tp hồ chí minh',\n",
      "  'Kho hàng': 'kho hàng 717',\n",
      "  'Kiểu tay': 'kiểu tay dài tay',\n",
      "  'Thương hiệu': 'thương hiệu no brand',\n",
      "  'desc_2': ' bảng size quần áo form châu âu rộng rộng nhé các cậu bảng size '\n",
      "            'mang tính chất tham khảo và phù hợp 80 90 sở thích các cậu ạ các '\n",
      "            'bạn muốn chọn size phù hợp có thể xem hình feedback các khách đã '\n",
      "            'mua hoặc inbox cho 1hitshop nhé size m dưới 55kg cao dưới 1m60 '\n",
      "            'size l từ 56 65kg  cao 1m61 1m70 size xl từ 66 75 kg cao 1m71 trở '\n",
      "            'lên   ngập tràn mẫu mới   somi trắng trơn dài tay  form rộng '\n",
      "            'unisex cho cả nam và nữ   nhận thu hộ ship cod toàn quốc  hình '\n",
      "            'shop chụp đảm bảo mặc lên form đẹp như ảnh  vải đẹp  không xù  '\n",
      "            'không co rút  mềm mịn dày dặn  hút mồ hôi cực nhanh mặc siêu '\n",
      "            'mát   1hitshop  địa chỉ 539a 14 bình thới p10 q11 tphcm hotline '\n",
      "            '0938462313  1hitshop ao aosomi somivet somitayngan somiunisex '\n",
      "            'somigiare somitrangtron',\n",
      "  'price': '139000',\n",
      "  'title': 'yêu thích nhập wapck12 giảm 30k đơn từ 150k áo somi trắng đen trơn '\n",
      "           'dài tay unisex'},\n",
      " {'': '',\n",
      "  'desc_2': '',\n",
      "  'price': '79000',\n",
      "  'title': 'yêu thích áosơ mi nữ trắng tay dài đẹp áo sơ mi trắng dáng suông '\n",
      "           'thời trang nữ '},\n",
      " {'Chất liệu': 'chất liệu kate hàn',\n",
      "  'Danh Mục': 'danh mục thời trang nữ áo áo sơ mi',\n",
      "  'Gửi từ': 'gửi từ quận 11 tp hồ chí minh',\n",
      "  'Kho hàng': 'kho hàng 128',\n",
      "  'Kiểu tay': 'kiểu tay tay lỡ',\n",
      "  'Thương hiệu': 'thương hiệu no brand',\n",
      "  'desc_2': ' bảng size quần áo form châu âu rộng rộng nhé các cậu bảng size '\n",
      "            'mang tính chất tham khảo và phù hợp 80 90 sở thích các cậu ạ các '\n",
      "            'bạn muốn chọn size phù hợp có thể xem hình feedback các khách đã '\n",
      "            'mua hoặc inbox cho 1hitshop nhé size m dưới 55kg cao dưới 1m60 '\n",
      "            'size l từ 56 65kg  cao 1m61 1m70 size xl từ 66 75 kg cao 1m71 trở '\n",
      "            'lên   ngập tràn mẫu mới   somi vet trắng ngắn tay  form rộng '\n",
      "            'unisex cho cả nam và nữ   nhận thu hộ ship cod toàn quốc  hình '\n",
      "            'shop chụp đảm bảo mặc lên form đẹp như ảnh  vải đẹp  không xù  '\n",
      "            'không co rút  mềm mịn dày dặn  hút mồ hôi cực nhanh mặc siêu '\n",
      "            'mát   1hitshop  địa chỉ 539a 14 bình thới p10 q11 tphcm hotline '\n",
      "            '0938462313  1hitshop ao aosomi somivet somitayngan somiunisex '\n",
      "            'somigiare somitrangtron somivettrangngantay',\n",
      "  'price': '139000',\n",
      "  'title': 'yêu thích nhập wapck12 giảm 30k đơn từ 150k áo somi vet caro tay '\n",
      "           'ngắn unisex'},\n",
      " {'Chất liệu': 'chất liệu vật liệu khác',\n",
      "  'Danh Mục': 'danh mục thời trang nữ áo áo sơ mi',\n",
      "  'Gửi từ': 'gửi từ quận bắc từ liêm hà nội',\n",
      "  'Kho hàng': 'kho hàng 79894',\n",
      "  'Kiểu tay': 'kiểu tay dài tay',\n",
      "  'Thương hiệu': 'thương hiệu no brand',\n",
      "  'desc_2': 'áo sơ mi nữ ngắn tay công sở đẹp cổ đức màu trắng kem thời trang '\n",
      "            'nữ áo sơ mi nữ ngắn tay công sở đẹp cổ đức màu trắng kem thời '\n",
      "            'trang nữ bộ sưu tập áo sơ mi nữ công sở mới nhất từ sunny sunny '\n",
      "            'kính chào quý khách đây chắc chắn là tủ đồ quần áo của bất kỳ cô '\n",
      "            'gái nào bạn chắc chắn sẽ tìm được một món đồ ưa thích của mình 1 '\n",
      "            'chính sách bán hàng giao hàng tận nơi toàn quốc nhận hàng thanh '\n",
      "            'toán đổi hàng trong vòng 7 ngày đổi hàng hoàn tiền trong 48h theo '\n",
      "            'tiêu chuẩn của 2 giới thiệu sản phẩm áo sơ mi nữ ngắn tay trắng '\n",
      "            'là mẫu áo cơ bản luôn phù hợp với mọi người cả nam và nữ trong '\n",
      "            'rất nhiều dịp khác nhau màu trắng luôn toát lên phong cách lịch '\n",
      "            'sự thuần khiết và năng động sản phẩm phù hợp trong nhiều hoàn '\n",
      "            'cảnh như đi làm đi chơi đi thể thao đều rất tiện và thoải mái 3 '\n",
      "            'đặc điểm sản phẩm chất liệu vải cotton lụa cao cấp mềm mại và '\n",
      "            'thoải mái sản phẩm có độ chống nhăn không cần là ủi lại sau khi '\n",
      "            'giặt form chuẩn phù hợp với vóc dáng phụ nữ á châu thiết kế đơn '\n",
      "            'giản chú trọng đến từng chi tiết nhỏ và chất lượng sản phẩm phù '\n",
      "            'hợp với nhiều phong cách và hoàn cảnh full size s m l xl từ 38 '\n",
      "            '65kg màu trắng trắng basic shop có các màu khác vui lòng inbox để '\n",
      "            'chọn xuất xứ việt nam bảo hành 1 đổi 1 miễn phí với sản phẩm có '\n",
      "            'lỗi do nhà sản xuất 4 hướng dẫn chọn size size áo chia theo cân '\n",
      "            'nặng vì chiều dài áo chênh lệch không nhiều khách hàng còn phân '\n",
      "            'vân có thể đặt câu hỏi phía dưới để bộ phận cskh tư vấn tận tình '\n",
      "            'nha size s từ 38 đến 44 kg size m từ 45 đến 49 kg size l từ 50 '\n",
      "            'đến 55 kg size xl từ 56 đến 64 kg xem thêm các sản phẩm khác tại '\n",
      "            'sunny sominu aosominu aosominuden aosominudaitay sominucongso '\n",
      "            'freeship aosominucongso sominutrang aosominutrang aosomi '\n",
      "            'aosomixuat somitrangtaydai ngantay shopaonu aotrang aosomi '\n",
      "            'somiuni somitrang',\n",
      "  'price': '85000',\n",
      "  'title': 'yêu thích áo sơ mi trắng nữ công sở dáng suông vải không nhăn'},\n",
      " {'Chất liệu': 'chất liệu vật liệu khác',\n",
      "  'Cổ áo': 'cổ áo cổ bẻ',\n",
      "  'Danh Mục': 'danh mục thời trang nam áo sơ mi dài tay',\n",
      "  'Dáng áo': 'dáng áo dáng dài',\n",
      "  'Gửi từ': 'gửi từ quận tân phú tp hồ chí minh',\n",
      "  'Kho hàng': 'kho hàng 1776',\n",
      "  'Tay áo': 'tay áo tay dài',\n",
      "  'Thương hiệu': 'thương hiệu no brand',\n",
      "  'Túi áo': 'túi áo có',\n",
      "  'desc_2': 'sơmi nam dài tay phong cách hàn quốc trẻ trung chất kate lụa form '\n",
      "            'ôm body chuẩn nha mọi ngưòi size m 55 kg cao m71 bụng 88cm l 63kg '\n",
      "            'cao m73 bụng 92cm xl 72kg cao m75 bụng 96cm sominam somidaitay '\n",
      "            'somingantay somihanquoc somidep somigiare somihoatiet somisoc '\n",
      "            'somicaro',\n",
      "  'price': '150000',\n",
      "  'title': 'áo sơ mi nam dài tay caro 2 màu thời trang'},\n",
      " {'Chất liệu': 'chất liệu lông cừu',\n",
      "  'Cổ áo': 'cổ áo cổ sơ mi',\n",
      "  'Danh Mục': 'danh mục thời trang nam áo sơ mi ngắn tay',\n",
      "  'Dáng áo': 'dáng áo dáng ôm',\n",
      "  'Kho hàng': 'kho hàng 261',\n",
      "  'Tay áo': 'tay áo tay ngắn',\n",
      "  'Thương hiệu': 'thương hiệu no brand',\n",
      "  'Túi áo': 'túi áo có',\n",
      "  'desc_2': 'áo sơ mi nam thời trang trẻ trung với nhiều màu áo sơ mi nam thời '\n",
      "            'trang trẻ trung với nhiều màu áo sơ mi nam thời trang trẻ trung '\n",
      "            'với nhiều màu ',\n",
      "  'price': '100000 350000',\n"
     ]
    },
    {
     "name": "stdout",
     "output_type": "stream",
     "text": [
      "  'title': 'áo sơ mi nam nhiều màu thời trang trẻ trung'},\n",
      " {'Chất liệu': 'chất liệu cotton',\n",
      "  'Cổ áo': 'cổ áo cổ bẻ',\n",
      "  'Danh Mục': 'danh mục thời trang nam áo sơ mi dài tay',\n",
      "  'Dáng áo': 'dáng áo dáng vừa',\n",
      "  'Gửi từ': 'gửi từ quận thủ đức tp hồ chí minh',\n",
      "  'Kho hàng': 'kho hàng 1554',\n",
      "  'Tay áo': 'tay áo tay dài',\n",
      "  'Thương hiệu': 'thương hiệu no brand',\n",
      "  'desc_2': 'áo sơ mi nam cotton lụa cao cấp cực phẩm thời trang chất vải '\n",
      "            'cotton lụa co giãn mềm mịn như tơ cầm tay thích ngay chất vải mặc '\n",
      "            'rất mát không xù lông không phai màu kiểu dáng đơn giãn bất hủ '\n",
      "            'nhưng không kém phần trẻ trung và cực kỳ sang trọng hàng cao cấp '\n",
      "            'đường may kỹ từng đương kim mũi chỉ form dáng thời trang phong '\n",
      "            'cách hàn quốc đang được các bạn trẻ yêu thích nhiều màu lựa chọn '\n",
      "            'lịch lãm và cực kỳ sang trọng hàng đẹp chuẩn 100 bao mọi chi phí '\n",
      "            'đổi trả nếu khác hình hỗ trợ đổi size khi mặc chật không vừa tham '\n",
      "            'khảo bảng chọn size bảng chọn size tham khảo size m l xl size m '\n",
      "            'khoản 45 55kg size l khoản 55 62kg size xl khoản 62 70kg size xxl '\n",
      "            'khoản 70 75kg tùy thể trạng và chiều cao chọn size tương ứng vào '\n",
      "            'gian hàng của shop để xem nhiều hơn nữa nhé còn rất nhiều mẫu đẹp '\n",
      "            'theo dõi shop để cập nhật thường xuyên mẫu thời trang mới nhất '\n",
      "            'cam kết giá tốt nhất đảm bảo sẽ hài lòng aosomi quanaonam '\n",
      "            'thoitrangnam trangphucnam somi3d sominam somihanquoc somilua '\n",
      "            'vailua sominamcongso quanaonam thoitrangnamcaocap sominamcaocap '\n",
      "            'somiquangchau sominamtron sominamdep somigiasi sominamgiare '\n",
      "            'chuandep',\n",
      "  'price': '89000 99000',\n",
      "  'title': 'yêu thích áo sơ mi nam cao cấp nhiều màu vnxk'},\n",
      " {'Chất liệu': 'chất liệu dây',\n",
      "  'Danh Mục': 'danh mục thời trang nữ áo áo sơ mi',\n",
      "  'Kho hàng': 'kho hàng 3781',\n",
      "  'Kiểu tay': 'kiểu tay tay lỡ',\n",
      "  'Thương hiệu': 'thương hiệu no brand',\n",
      "  'desc_2': 'thời gian giao hàng dự kiến cho sản phẩm này là từ 7 9 ngày kiểu '\n",
      "            'quần áo ôm dáng phong cách đơn giản cơ bản độ dài tiêu chuẩn '\n",
      "            'chiều dài tay áo tay áo ngắn kiểu tay áo thông thường kiểu cổ áo '\n",
      "            'cổ áo vest đường xẻ 1 hàng nút nhiều nút họa tiết trơn thành phần '\n",
      "            '96 và nhiều loại khác kết cấu cotton kích thước dài 55 chiều dài '\n",
      "            'tay áo 22 ngực 104 chiều rộng vai 41  lưu ý đơn vị đo thủ công cm '\n",
      "            'do các phương pháp đo khác nhau vui lòng cho phép sai số 1 3cm '\n",
      "            'không ảnh hưởng tới chất lượng do đèn chụp và góc chụp màu sắc '\n",
      "            'sản phẩm thật có thể sẽ hơi khác so với hình ảnh ',\n",
      "  'price': '99000',\n",
      "  'title': 'yêu thích áo sơ mi tay ngắn màu trơn thiết kế dáng rộng thoải mái'},\n",
      " {'Chất liệu': 'chất liệu cotton',\n",
      "  'Danh Mục': 'danh mục thời trang nam đồ đôi áo gia đình',\n",
      "  'Gửi từ': 'gửi từ quận gò vấp tp hồ chí minh',\n",
      "  'Kho hàng': 'kho hàng 23',\n",
      "  'Thương hiệu': 'thương hiệu no brand',\n",
      "  'desc_2': 'set áo sơ mi gia đình màu đỏ đô thiết kế cổ bẻtay dài nút gài '\n",
      "            'chất cotton cao cấp co giãn nhẹ dày dặn mềm mịn ko nhăn không xù '\n",
      "            'form dáng y hình size người lớn s m l xlxxlxxxl từ 40 95kg size '\n",
      "            'bé từ 8 30kg form dáng như hình lịch lãm phối với jean quần tây '\n",
      "            'short giày thể thao giày da cty nhận may hàng đồng phục số lượng '\n",
      "            'từ 50 sản phẩm theo mẫu riêng thiết kế riêng của khách sản phẩm '\n",
      "            'công ty tnhh thời trang figtree việt nam đ c 688 113a quang trung '\n",
      "            'phường 11 gò vấp hcm sđt 0905562993 0961139538 website '\n",
      "            'figtreestorecom caroshopnet fb zalo viber 0905562993 hàng có sẵn '\n",
      "            'bao đẹp bao đổi trả hàng thật hình thật có hình mẫu và hình sản '\n",
      "            'phẩm riêng khách có thể inbox shop để được tư vấn mẫu size phù '\n",
      "            'hợp cũng như dc xem hình sp hay quay cận cảnh xem khách gần muốn '\n",
      "            'ghé shop 8h sáng 22h đêm thứ 2 7 chủ nhật 10h 22h aosominamhot '\n",
      "            'aonusieuhot aonucotru aosomidemin aonamcarohanquoc '\n",
      "            'thoitrangfigtree figtree somicapdoi aocapcaro aodoicaocap '\n",
      "            'aosomidoicaro aodoihanquoc aocaphanquoc aogiadinh setaogiadinh '\n",
      "            'dongphucgiadinh',\n",
      "  'price': '140000 610000',\n",
      "  'title': 'áo gia đình sơ mi màu đỏ đô'},\n",
      " {'Chất liệu': 'chất liệu vật liệu khác',\n",
      "  'Cách giặt': 'cách giặt giặt máy',\n",
      "  'Cổ áo': 'cổ áo cổ bẻ',\n",
      "  'Danh Mục': 'danh mục thời trang nam áo sơ mi dài tay',\n",
      "  'Dáng áo': 'dáng áo dáng vừa',\n",
      "  'Gửi từ': 'gửi từ quận gò vấp tp hồ chí minh',\n",
      "  'Kho hàng': 'kho hàng 4390',\n",
      "  'Tay áo': 'tay áo tay dài',\n",
      "  'Thương hiệu': 'thương hiệu no brand',\n",
      "  'Túi áo': 'túi áo không',\n",
      "  'desc_2': 'free ship 99k phong cách thời trang với thiết kế trẻ trung và cá '\n",
      "            'tính  cho các bạn nam tự tin khoe cá tính sôi nổi chất liệu bền '\n",
      "            'đẹp mang lại sự thoải mái thoáng mát thấm hút mồ hôi tốt phù hợp '\n",
      "            'với các bạn trẻ yêu thích hoạt động màu sắc hài hòa dễ mặc thích '\n",
      "            'hợp với nhiều dáng ngườiáo sơ mi nam phong cách hàn quốc thiết kế '\n",
      "            'nút cài tiện dụng với kiểu dáng trẻ trung thể hiện vẻ nam tính '\n",
      "            'của bạn nam áo kẻ caro mang đến cho người mặc một phong cách vừa '\n",
      "            'cổ điển vừa có nét trẻ trung lịch lãm và quyến rũ áo dáng cổ trụ '\n",
      "            'trẻ trung hướng dẫn cách đặt hàng  cách chọn size shop có bảng '\n",
      "            'size mẫu bạn nên inbox cung cấp chiều cao cân nặng để shop tư vấn '\n",
      "            'size phù hợp cho bạn  cách đặt hàng nếu bạn muốn mua 2 sản phẩm '\n",
      "            'khác nhau hoặc 2 size khác nhau bạn chọn từng sản phẩm rồi thêm '\n",
      "            'vào giỏ hàng khi giỏ hàng đã có đầy đủ các sản phẩm cần mua bạn '\n",
      "            'vào giỏ hàng tiến hành đặt hàng  shop luôn sẵn sàng trả lời inbox '\n",
      "            'để tư vấn tiêu chí chọn sizesize s nặng 51 kg trở xuống cao '\n",
      "            'khoảng 163m 167m size m nặng 52kg đến 57kg cao khoảng 166m '\n",
      "            '172msize l nặng 58kg đến 68kg cao khoảng 168m 176m side xl nặng '\n",
      "            '69kg đến 80kg cao khoảng 168m 176mkhách hàng được quyền đổi trả '\n",
      "            'trong những trường hợp sau hàng bị lỗi giao không đúng sizenếu '\n",
      "            'khách không biết chọn size thì ibox cho shop để được tư vấn tận '\n",
      "            'tình nhé sominam aosominam sominam sominamgiare sominamhanquoc '\n",
      "            'aosomi somi aosomicaocap aosomidep aosominamdaitay aosomitrang '\n",
      "            'aosomidenim aosomiden somicotau aosominamcotau',\n",
      "  'price': '130000 140000',\n",
      "  'title': 'yêu thích áo sơ mi nam vải bố caro 3 màu form rộng hàng quảng châu '\n",
      "           'thấm hút mồ hôi tốt ms18'},\n",
      " {'Chất liệu': 'chất liệu vật liệu khác',\n",
      "  'Cách giặt': 'cách giặt giặt tay',\n",
      "  'Cổ áo': 'cổ áo cổ bẻ',\n",
      "  'Danh Mục': 'danh mục thời trang nam áo sơ mi dài tay',\n",
      "  'Dáng áo': 'dáng áo dáng dài',\n",
      "  'Gửi từ': 'gửi từ quận hoàng mai hà nội',\n",
      "  'Kho hàng': 'kho hàng 3958',\n",
      "  'Tay áo': 'tay áo tay dài',\n",
      "  'Thương hiệu': 'thương hiệu no brand',\n",
      "  'Túi áo': 'túi áo có',\n",
      "  'desc_2': 'áo sơ mi nam dài tay caro cô bẻ phối thân hai màu in hình kiêu '\n",
      "            'dang trẻ trung mixxstore thiết kế thời trang đơn giản không kém '\n",
      "            'phần hiện đại kiểu dáng gọn nhẹ năng động chất vải thun mềm mại '\n",
      "            'dễ thấm hút mồ hôi phù hợp nhiều hoàn cảnh mặc nhà đi học đi chơi '\n",
      "            'du lịch xuất xứ việt nam kích cỡ size xs cho bạn có cân nặng từ '\n",
      "            'dưới 40kg tùy chiều cao size s cho bạn có cân nặng từ dưới 41 '\n",
      "            '50kg tùy chiều cao size m cho bạn có cân nặng từ 51 60kg tùy '\n",
      "            'chiều cao size l cho bạn có cân nặng từ 61 65kg tùy chiều cao '\n",
      "            'size xl cho bạn có cân nặng từ 66 70kg tùy chiều cao lưu ý nên '\n",
      "            'giặt bằng tay nếu giặt bằng máy bạn nên giặt với nhiệt độ nước '\n",
      "            'không quá 40 độ c để đảm bảo sản phẩm giữ được màu sắc ban đầu ',\n",
      "  'price': '71000',\n",
      "  'title': 'yêu thích áo sơ mi nam dài tay caro cô bẻ phối thân hai màu in '\n",
      "           'hình kiêu dang trẻ trung mixxstore so mi nam 100005'},\n",
      " {'Chất liệu': 'chất liệu cotton',\n",
      "  'Cách giặt': 'cách giặt giặt máy',\n",
      "  'Cổ áo': 'cổ áo cổ sơ mi',\n"
     ]
    },
    {
     "name": "stdout",
     "output_type": "stream",
     "text": [
      "  'Danh Mục': 'danh mục thời trang nam áo sơ mi dài tay',\n",
      "  'Dáng áo': 'dáng áo dáng ôm',\n",
      "  'Gửi từ': 'gửi từ quận hà đông hà nội',\n",
      "  'Kho hàng': 'kho hàng 17217',\n",
      "  'Tay áo': 'tay áo tay dài',\n",
      "  'Thương hiệu': 'thương hiệu no brand',\n",
      "  'Túi áo': 'túi áo không',\n",
      "  'desc_2': 'lh 0985629309 để tìm hiểu thêm về sp quý khách hãy sử dụng mã '\n",
      "            'giảm giá để được hỗ trợ tối đa 40k phí ship ạ mô tả sản phẩm  đã '\n",
      "            'không làm thì thôi nhưng đã làm thì phải làm tốt nhất shop xin '\n",
      "            'mang đến dòng sơ mi nam mầu trắng cho các quý ông trẻ tuổi lịch '\n",
      "            'lãm và sang trọng  các bạn hãy chú ý đường may trên cổ tay và '\n",
      "            'phần viền trước ngực của áo rất thẳng và đều không bị lỗi đè chỉ '\n",
      "            'hay xiêu vẹo trên đường may đây chính là cách nhận biết hàng được '\n",
      "            'may rất cẩn thận và cũng là điều dùng để phân biệt với hàng sơ mi '\n",
      "            'trắng kém chất lượng hàng chợ màu đen chất liệu nến lụa cao cấp '\n",
      "            'sờ cực sang xịn mịn kiểu dáng body slimfit giá từ 99k giá gốc tại '\n",
      "            'xưởng luôn ạ kết hợp với màu quần tất cả các màu quần bảng tham '\n",
      "            'khảo size áo tại shop size m 45 50kg size l 50 55kg size xl 55 '\n",
      "            '60kg size xxl 60 65kg size xxxl 65 70kg nếu bạn nào có đặc điểm '\n",
      "            'vai rộng tay to một chút thì xin vui lòng inbox để shop chọn size '\n",
      "            'cho bạn nhé lh 0985629309 để tìm hiểu thêm về sp áo aosominam '\n",
      "            'aonamdep aonam sominam somilua somiluadep aosominamcaocap '\n",
      "            'aosominamthoitrang aosominamlua áoominamchatlua aosomitrang '\n",
      "            'aosomitrangdep aosomitrangchatdep aosomitrangsoaica',\n",
      "  'price': '99000',\n",
      "  'title': 'áo sơ mi nam mầu đen công sở không nhăn dài tay chất đẹp giá '\n",
      "           'xưởng'},\n",
      " {'Chất liệu': 'chất liệu vật liệu khác',\n",
      "  'Cách giặt': 'cách giặt giặt tay',\n",
      "  'Cổ áo': 'cổ áo cổ sơ mi',\n",
      "  'Danh Mục': 'danh mục thời trang nam áo sơ mi cổ tàu',\n",
      "  'Dáng áo': 'dáng áo dáng vừa',\n",
      "  'Gửi từ': 'gửi từ quận 12 tp hồ chí minh',\n",
      "  'Kho hàng': 'kho hàng 4463',\n",
      "  'Tay áo': 'tay áo tay dài',\n",
      "  'Thương hiệu': 'thương hiệu no brand',\n",
      "  'Túi áo': 'túi áo không',\n",
      "  'desc_2': 'thiết kế thời trang có thể mặc cặp chất liệu cao cấp kiểu dáng đa '\n",
      "            'phong cách đường may tinh tế sắc sảo có các size m l xl',\n",
      "  'price': '120000',\n",
      "  'title': 'áo sơ mi cổ tàu nam phối màu siêu đẹp siêu phẩm hoottt '},\n",
      " {'Danh Mục': 'danh mục thời trang nữ đồ đôi áo đôi',\n",
      "  'Gửi từ': 'gửi từ thành phố biên hòa đồng nai',\n",
      "  'Kho hàng': 'kho hàng 12946',\n",
      "  'Thương hiệu': 'thương hiệu no brand',\n",
      "  'desc_2': 'thông tin sản phẩm form hàn quốc dễ kết hợp với các loại quần '\n",
      "            'made in việt nam m l xl xxl tùy sản phẩm được sử dụng nhiều nhất '\n",
      "            'trên thị trường thích hợp mặc trong nhiều môi trường khác nhau '\n",
      "            'size m nặng khoảng 55kg trở xuống size l nặng khoảng 56kg đến '\n",
      "            '62kg size xl nặng khoảng 63kg đến 70kg size xl nặng khoảng 70kg '\n",
      "            'đến 75kg chính sách đổi trả hàng của jean vnxk hàng mua rồi được '\n",
      "            'hoàn tiền khi có lỗi của shop lỗi sản phẩm khi có yêu cầu trả '\n",
      "            'hàng bạn vui lòng giữ lại bao bì và gửi lại cả bao bì và sản phẩm '\n",
      "            'kèm theo về cho shop chậm nhất 5 ngày để tổng hợp và hoàn tiền '\n",
      "            'tiền sẽ được hoàn lại vào ví của bạn và lưu ý khi yêu cầu trả '\n",
      "            'hàng hoàn tiền trên thì hàng quý khách gửi trả không được cod '\n",
      "            'tiền hàng nữa nhé vì tiền hàng sẽ trả trong rồi shop chỉ giải '\n",
      "            'quyết khiếu nại cho bạn khi người mua vẫn giữ nguyên bao bì ở '\n",
      "            'ngoài và sản phẩm còn nguyên vẹn bạn vui lòng chụp toàn bộ sản '\n",
      "            'phẩm cũng như bao bì để shop xác nhận nhé khi đổi trả mà không '\n",
      "            'phải lỗi của shop bạn phải trả toàn bộ phí vận chuyển gửi đi và '\n",
      "            'gửi lại',\n",
      "  'price': '116600',\n",
      "  'title': 'yêu thích áo sơ mi cặp nam nữ màu đen sọc trắng dáng body hàn quốc '\n",
      "           'sọc 3 3 chất đẹp '},\n",
      " {'Chất liệu': 'chất liệu polyester',\n",
      "  'Danh Mục': 'danh mục thời trang nữ áo áo sơ mi',\n",
      "  'Kho hàng': 'kho hàng 2977',\n",
      "  'Kiểu tay': 'kiểu tay ngắn tay',\n",
      "  'Thương hiệu': 'thương hiệu no brand',\n",
      "  'desc_2': 'welcome to ccvn if you like our store you can follow us other '\n",
      "            'models can search  ccvn swimwear can search  vvvn sizelength '\n",
      "            '66cmbust 118cmshoulder 48cmsleeve length 24cm materialpolyester '\n",
      "            'note please allow 1 3cm difference due to manual measurement real '\n",
      "            'color may be slightly different from the image due to the '\n",
      "            'resolution brightness contrast of the computer monitor etc hope '\n",
      "            'to understand if you are satisfied with our products and services '\n",
      "            'please leave a 5 star review with photos in case you are not '\n",
      "            'satisfied with the product please contact us immediately thank '\n",
      "            'you ',\n",
      "  'price': '167000',\n",
      "  'title': 'yêu thích áo sơ mi tay ngắn màu trơn kiểu dáng đơn giản'},\n",
      " {'': 'danh mục thời trang nam quần quần tây',\n",
      "  'Chiều dài quần (cm)': 'chiều dài quần cm 100',\n",
      "  'Chất liệu': 'chất liệu vật liệu khác',\n",
      "  'Gửi từ': 'gửi từ quận nam từ liêm hà nội',\n",
      "  'Kho hàng': 'kho hàng 19980',\n",
      "  'Phong cách': 'phong cách công sở',\n",
      "  'Thương hiệu': 'thương hiệu no brand',\n",
      "  'desc_2': 'combo bộ quần âu sơ mi nam sản phẩm bao gồm áo sơ mi dáng ôm body '\n",
      "            'cao cấp quần tây vải co giãn không nhăn mô tả áo sơ mi kiểu dáng '\n",
      "            'dài tay dáng ôm không có túi chất liệu vải nến lụa không nhăn mô '\n",
      "            'tả quần tây kiểu dáng quần dài dáng ôm vải tuyết mưa co giãn '\n",
      "            'không nhăn bảng size áo tham khảo hàng có sẵn đủ size từ m l xl '\n",
      "            'xxl xxxl size m nặng khoảng 54kg trở xuống vai 40cm ngực 90cm '\n",
      "            'bụng 82 chiều dài áo 67 cm chiều dài tay áo 60cm size l nặng '\n",
      "            'khoảng 55kg đến 60kgvai 41cm ngực 92cm bụng 84 chiều dài áo 70 cm '\n",
      "            'chiều dài tay áo 61cm size xl nặng khoảng 60kg đến 67kg vai 42cm '\n",
      "            'ngực 96cm bụng 86 chiều dài áo 73 cm chiều dài tay áo 62cm size '\n",
      "            'xxl nặng khoảng 67kg đến 73kg vai 44cm ngực 100cm bụng 90 chiều '\n",
      "            'dài áo 76 cm chiều dài tay áo 63cm size xxxl nặng khoảng 73kg đến '\n",
      "            '78kg vai 455cm ngực 104cm bụng 94 chiều dài áo 79 cm chiều dài '\n",
      "            'tay áo 64cm bảng size quần tham khảo size 28 nặng từ 47 52kg cao '\n",
      "            '1m60 1m65 ống côn 15cm vòng bụng 73cm size 29 nặng 52 55kg cao '\n",
      "            '1m60 1m67 ống côn 16 cm vòng bụng 76cm size 30 nặng từ 55 59kg '\n",
      "            'cao 1m60 1m70 ống côn 16cm vòng bụng 79cm size 31 nặng từ 60 64kg '\n",
      "            'cao 1m63 1m72 ống côn 165cm vòng bụng 82cm size 32 nặng từ 65 '\n",
      "            '70kg cao 1m63 1m72 ống côn 165 cm vòng bụng 84cm size 33 nặng từ '\n",
      "            '70 74kg cao 1m65 1m74 ống côn 17 cm vòng bụng 87cm size 34 nặng '\n",
      "            'từ 74 80kg cao 1m65 1m78 ống côn 17cm  vòng bụng 90cm lưu ý quần '\n",
      "            'này form ôm nên nếu anh nào muốn mặc rộng thoải mái hơn thì nên '\n",
      "            'chọn lớn hơn 1 size chính sách đổi trả tại shop shop đồng ý đổi '\n",
      "            'hàng trả hàng với mọi lý do yêu cầu hàng còn mới chưa cắt khuy '\n",
      "            'cắt mác phí ship đổi trả shop chịu phí trong trường hợp hàng lỗi '\n",
      "            'gửi nhầm hàng thiếu hàng',\n",
      "  'loại quần': 'loại quần quần dài',\n",
      "  'price': '189000',\n",
      "  'title': 'yêu thích combo bộ quần âu áo sơ mi nam chất đẹp màu tùy chọn',\n",
      "  'Ống quần': 'ống quần dáng bó'},\n",
      " {'Chất liệu': 'chất liệu vật liệu khác',\n",
      "  'Cách giặt': 'cách giặt giặt tay',\n",
      "  'Cổ áo': 'cổ áo cổ bẻ',\n",
      "  'Danh Mục': 'danh mục thời trang nam áo sơ mi dài tay',\n",
      "  'Dáng áo': 'dáng áo dáng dài',\n",
      "  'Gửi từ': 'gửi từ quận hoàng mai hà nội',\n",
      "  'Kho hàng': 'kho hàng 3873',\n",
      "  'Tay áo': 'tay áo tay dài',\n",
      "  'Thương hiệu': 'thương hiệu no brand',\n",
      "  'Túi áo': 'túi áo có',\n",
      "  'desc_2': 'áo sơ mi nam dài tay caro cô bẻ phối thân hai màu in hình kiêu '\n",
      "            'dang trẻ trung mixxstoreno thiết kế thời trang đơn giản không kém '\n",
      "            'phần hiện đại kiểu dáng gọn nhẹ năng động chất vải thun mềm mại '\n",
      "            'dễ thấm hút mồ hôi phù hợp nhiều hoàn cảnh mặc nhà đi học đi chơi '\n"
     ]
    },
    {
     "name": "stdout",
     "output_type": "stream",
     "text": [
      "            'du lịch xuất xứ việt nam kích cỡ size xs cho bạn có cân nặng từ '\n",
      "            'dưới 40kg tùy chiều cao size s cho bạn có cân nặng từ dưới 41 '\n",
      "            '50kg tùy chiều cao size m cho bạn có cân nặng từ 51 60kg tùy '\n",
      "            'chiều cao size l cho bạn có cân nặng từ 61 65kg tùy chiều cao '\n",
      "            'size xl cho bạn có cân nặng từ 66 70kg tùy chiều cao lưu ý nên '\n",
      "            'giặt bằng tay nếu giặt bằng máy bạn nên giặt với nhiệt độ nước '\n",
      "            'không quá 40 độ c để đảm bảo sản phẩm giữ được màu sắc ban đầu ',\n",
      "  'price': '71000',\n",
      "  'title': 'yêu thích áo sơ mi nam dài tay caro cô bẻ phối thân hai màu in '\n",
      "           'hình kiêu dang trẻ trung mixxstoreno so mi nam 100005'},\n",
      " {'Chất liệu': 'chất liệu lụa',\n",
      "  'Cách giặt': 'cách giặt giặt máy',\n",
      "  'Cổ áo': 'cổ áo cổ bẻ',\n",
      "  'Danh Mục': 'danh mục thời trang nam áo sơ mi dài tay',\n",
      "  'Dáng áo': 'dáng áo dáng vừa',\n",
      "  'Gửi từ': 'gửi từ quận gò vấp tp hồ chí minh',\n",
      "  'Kho hàng': 'kho hàng 2957',\n",
      "  'Tay áo': 'tay áo tay dài',\n",
      "  'Thương hiệu': 'thương hiệu no brand',\n",
      "  'Túi áo': 'túi áo có',\n",
      "  'desc_2': 'freeship 99k phong cách thời trang với thiết kế trẻ trung và cá '\n",
      "            'tính  cho các bạn nam tự tin khoe cá tính sôi nổi chất liệu bền '\n",
      "            'đẹp mang lại sự thoải mái thoáng mát thấm hút mồ hôi tốt phù hợp '\n",
      "            'với các bạn trẻ yêu thích hoạt động màu sắc hài hòa dễ mặc thích '\n",
      "            'hợp với nhiều dáng ngườiáo sơ mi nam phong cách hàn quốc thiết kế '\n",
      "            'nút cài tiện dụng với kiểu dáng trẻ trung thể hiện vẻ nam tính '\n",
      "            'của bạn nam áo kẻ caro mang đến cho người mặc một phong cách vừa '\n",
      "            'cổ điển vừa có nét trẻ trung lịch lãm và quyến rũ áo dáng cổ trụ '\n",
      "            'trẻ trung hướng dẫn cách đặt hàng  cách chọn size shop có bảng '\n",
      "            'size mẫu bạn nên inbox cung cấp chiều cao cân nặng để shop tư vấn '\n",
      "            'size phù hợp cho bạn  cách đặt hàng nếu bạn muốn mua 2 sản phẩm '\n",
      "            'khác nhau hoặc 2 size khác nhau bạn chọn từng sản phẩm rồi thêm '\n",
      "            'vào giỏ hàng khi giỏ hàng đã có đầy đủ các sản phẩm cần mua bạn '\n",
      "            'vào giỏ hàng tiến hành đặt hàng  shop luôn sẵn sàng trả lời inbox '\n",
      "            'để tư vấn tiêu chí chọn sizesize s nặng 51 kg trở xuống cao '\n",
      "            'khoảng 163m 167m size m nặng 52kg đến 57kg cao khoảng 166m '\n",
      "            '172msize l nặng 58kg đến 68kg cao khoảng 168m 176m side xl nặng '\n",
      "            '69kg đến 80kg cao khoảng 168m 176mkhách hàng được quyền đổi trả '\n",
      "            'trong những trường hợp sau hàng bị lỗi giao không đúng sizenếu '\n",
      "            'khách không biết chọn size thì ibox cho shop để được tư vấn tận '\n",
      "            'tình nhé sominam aosominam sominam sominamgiare sominamhanquoc '\n",
      "            'aosomi somi aosomicaocap aosomidep aosominamdaitay aosomitrang '\n",
      "            'aosomidenim aosomiden somicotau aosominamcotau',\n",
      "  'price': '135000 140000',\n",
      "  'title': 'yêu thích áo sơ mi nam lụa 2 màu form rộng họa tiết caro hàng '\n",
      "           'quảng châu thấm hút mồ hôi tốt giá rẻ'},\n",
      " {'Chất liệu': 'chất liệu chiffon',\n",
      "  'Danh Mục': 'danh mục thời trang nữ áo áo kiểu',\n",
      "  'Kho hàng': 'kho hàng 9966',\n",
      "  'Kiểu tay': 'kiểu tay long sleeve t shirt',\n",
      "  'Thương hiệu': 'thương hiệu no brand',\n",
      "  'desc_2': 'features top length regular fabric type chiffon sleeve length '\n",
      "            'long sleeve collar type lapel clothing placket single breasted '\n",
      "            'collar type suit collar color red black size s m l xl xxl size '\n",
      "            'chart size length bust sleeve shoulder s 2362 60cm 4409 112cm '\n",
      "            '1811 46cm 3500 61cm m 2441 62cm 4567 116cm 1850 47cm 2441 62cm l '\n",
      "            '2480 63cm 4724 120cm 1890 48cm 2480 63cm xl 2520 64cm 4882 124cm '\n",
      "            '1929 49cm 2520 64cm 2xl 2559 65cm 5039 128cm 1969 50cm 2559 65cm '\n",
      "            'package included 1 blouse',\n",
      "  'price': '108990',\n",
      "  'title': 'yêu thích áo sơ mi chiffon nữ tay dài cổ chữ v màu trơn'}]\n"
     ]
    }
   ],
   "source": [
    "filename = \"áo_sơ_mi_màu.txt\"\n",
    "with open(filename, 'r') as f:\n",
    "    tmp = json.load(f)\n",
    "    pprint(tmp)"
   ]
  }
 ],
 "metadata": {
  "kernelspec": {
   "display_name": "Main_env_2",
   "language": "python",
   "name": "main_env_2"
  },
  "language_info": {
   "codemirror_mode": {
    "name": "ipython",
    "version": 3
   },
   "file_extension": ".py",
   "mimetype": "text/x-python",
   "name": "python",
   "nbconvert_exporter": "python",
   "pygments_lexer": "ipython3",
   "version": "3.7.3"
  }
 },
 "nbformat": 4,
 "nbformat_minor": 2
}
